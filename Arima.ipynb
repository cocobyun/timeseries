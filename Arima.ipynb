{
 "cells": [
  {
   "cell_type": "code",
   "execution_count": 3,
   "id": "9800d4ac",
   "metadata": {},
   "outputs": [],
   "source": [
    "import six\n",
    "import sys\n",
    "sys.modules['sklearn.externals.six'] = six"
   ]
  },
  {
   "cell_type": "code",
   "execution_count": 4,
   "id": "70c7b0cb",
   "metadata": {},
   "outputs": [],
   "source": [
    "import joblib\n",
    "\n",
    "sys.modules['sklearn.externals.joblib'] = joblib"
   ]
  },
  {
   "cell_type": "code",
   "execution_count": 5,
   "id": "7a0725c2",
   "metadata": {},
   "outputs": [],
   "source": [
    "import pandas as pd\n",
    "import numpy as np\n",
    "%matplotlib inline\n",
    "\n",
    "# Load specific forecasting tools\n",
    "from statsmodels.tsa.statespace.sarimax import SARIMAX\n",
    "\n",
    "from statsmodels.graphics.tsaplots import plot_acf,plot_pacf # for determining (p,q) orders\n",
    "from statsmodels.tsa.seasonal import seasonal_decompose      # for ETS Plots\n",
    "from pmdarima import ARIMA                              # for determining ARIMA orders\n",
    "\n",
    "\n",
    "# Load a non-stationary dataset\n",
    "df1 = pd.read_csv('tempandq1.csv',index_col='date',parse_dates=True)\n",
    "df1.index.freq = 'D'"
   ]
  },
  {
   "cell_type": "code",
   "execution_count": 6,
   "id": "0788c1bc",
   "metadata": {},
   "outputs": [],
   "source": [
    "from pmdarima import auto_arima\n",
    "\n",
    "# Ignore harmless warnings\n",
    "import warnings\n",
    "warnings.filterwarnings(\"ignore\")"
   ]
  },
  {
   "cell_type": "code",
   "execution_count": 7,
   "id": "c29e7d99",
   "metadata": {},
   "outputs": [
    {
     "data": {
      "text/plain": [
       "<matplotlib.axes._subplots.AxesSubplot at 0x1554d506ef0>"
      ]
     },
     "execution_count": 7,
     "metadata": {},
     "output_type": "execute_result"
    },
    {
     "data": {
      "image/png": "[encoded data removed]",
      "text/plain": [
       "<Figure size 432x288 with 1 Axes>"
      ]
     },
     "metadata": {
      "needs_background": "light"
     },
     "output_type": "display_data"
    }
   ],
   "source": [
    "df1.plot()"
   ]
  },
  {
   "cell_type": "code",
   "execution_count": 9,
   "id": "4d3a07ad",
   "metadata": {},
   "outputs": [],
   "source": [
    "from pmdarima import auto_arima\n",
    "\n",
    "# Ignore harmless warnings\n",
    "import warnings\n",
    "warnings.filterwarnings(\"ignore\")"
   ]
  },
  {
   "cell_type": "code",
   "execution_count": 10,
   "id": "9a0d365a",
   "metadata": {},
   "outputs": [],
   "source": [
    "from statsforecast import StatsForecast\n",
    "from statsforecast.models import AutoARIMA, ETS"
   ]
  },
  {
   "cell_type": "code",
   "execution_count": 11,
   "id": "8921b300",
   "metadata": {},
   "outputs": [
    {
     "data": {
      "text/plain": [
       "1096"
      ]
     },
     "execution_count": 11,
     "metadata": {},
     "output_type": "execute_result"
    }
   ],
   "source": [
    "len(df1)"
   ]
  },
  {
   "cell_type": "code",
   "execution_count": 12,
   "id": "d4a7e2c3",
   "metadata": {},
   "outputs": [],
   "source": [
    "# Set one year for testing\n",
    "train = df1.iloc[:822]\n",
    "test = df1.iloc[822:]"
   ]
  },
  {
   "cell_type": "code",
   "execution_count": 13,
   "id": "71496914",
   "metadata": {},
   "outputs": [
    {
     "data": {
      "text/html": [
       "<div>\n",
       "<style scoped>\n",
       "    .dataframe tbody tr th:only-of-type {\n",
       "        vertical-align: middle;\n",
       "    }\n",
       "\n",
       "    .dataframe tbody tr th {\n",
       "        vertical-align: top;\n",
       "    }\n",
       "\n",
       "    .dataframe thead th {\n",
       "        text-align: right;\n",
       "    }\n",
       "</style>\n",
       "<table border=\"1\" class=\"dataframe\">\n",
       "  <thead>\n",
       "    <tr style=\"text-align: right;\">\n",
       "      <th></th>\n",
       "      <th>temp</th>\n",
       "      <th>q</th>\n",
       "    </tr>\n",
       "    <tr>\n",
       "      <th>date</th>\n",
       "      <th></th>\n",
       "      <th></th>\n",
       "    </tr>\n",
       "  </thead>\n",
       "  <tbody>\n",
       "    <tr>\n",
       "      <th>2021-04-02</th>\n",
       "      <td>13.2</td>\n",
       "      <td>38.120</td>\n",
       "    </tr>\n",
       "    <tr>\n",
       "      <th>2021-04-03</th>\n",
       "      <td>10.5</td>\n",
       "      <td>78.457</td>\n",
       "    </tr>\n",
       "  </tbody>\n",
       "</table>\n",
       "</div>"
      ],
      "text/plain": [
       "            temp       q\n",
       "date                    \n",
       "2021-04-02  13.2  38.120\n",
       "2021-04-03  10.5  78.457"
      ]
     },
     "execution_count": 13,
     "metadata": {},
     "output_type": "execute_result"
    }
   ],
   "source": [
    "test.head(2)"
   ]
  },
  {
   "cell_type": "code",
   "execution_count": 14,
   "id": "f1402f28",
   "metadata": {},
   "outputs": [
    {
     "data": {
      "text/plain": [
       "(822, 2)"
      ]
     },
     "execution_count": 14,
     "metadata": {},
     "output_type": "execute_result"
    }
   ],
   "source": [
    "train.shape"
   ]
  },
  {
   "cell_type": "code",
   "execution_count": 15,
   "id": "dc60620a",
   "metadata": {},
   "outputs": [
    {
     "data": {
      "text/plain": [
       "(274, 2)"
      ]
     },
     "execution_count": 15,
     "metadata": {},
     "output_type": "execute_result"
    }
   ],
   "source": [
    "test.shape"
   ]
  },
  {
   "cell_type": "code",
   "execution_count": 16,
   "id": "e5b24e4e",
   "metadata": {},
   "outputs": [],
   "source": [
    "from statsmodels.tsa.api import VAR\n",
    "from statsmodels.tsa.arima_model import ARIMA\n",
    "from statsmodels.graphics.tsaplots import plot_acf,plot_pacf\n",
    "from statsmodels.tsa.stattools import adfuller\n",
    "from statsmodels.tsa.statespace.sarimax import SARIMAX\n",
    "from statsmodels.tsa.seasonal import seasonal_decompose"
   ]
  },
  {
   "cell_type": "code",
   "execution_count": 31,
   "id": "6732e29b",
   "metadata": {},
   "outputs": [
    {
     "data": {
      "text/html": [
       "<table class=\"simpletable\">\n",
       "<caption>SARIMAX Results</caption>\n",
       "<tr>\n",
       "  <th>Dep. Variable:</th>                    <td>q</td>                 <th>  No. Observations:  </th>    <td>822</td>   \n",
       "</tr>\n",
       "<tr>\n",
       "  <th>Model:</th>           <td>SARIMAX(2, 0, 3)x(0, 0, [1, 2], 7)</td> <th>  Log Likelihood     </th> <td>-5309.245</td>\n",
       "</tr>\n",
       "<tr>\n",
       "  <th>Date:</th>                     <td>Wed, 28 Sep 2022</td>          <th>  AIC                </th> <td>10634.490</td>\n",
       "</tr>\n",
       "<tr>\n",
       "  <th>Time:</th>                         <td>14:12:35</td>              <th>  BIC                </th> <td>10672.184</td>\n",
       "</tr>\n",
       "<tr>\n",
       "  <th>Sample:</th>                      <td>01-01-2019</td>             <th>  HQIC               </th> <td>10648.952</td>\n",
       "</tr>\n",
       "<tr>\n",
       "  <th></th>                            <td>- 04-01-2021</td>            <th>                     </th>     <td> </td>    \n",
       "</tr>\n",
       "<tr>\n",
       "  <th>Covariance Type:</th>                 <td>opg</td>                <th>                     </th>     <td> </td>    \n",
       "</tr>\n",
       "</table>\n",
       "<table class=\"simpletable\">\n",
       "<tr>\n",
       "      <td></td>        <th>coef</th>     <th>std err</th>      <th>z</th>      <th>P>|z|</th>  <th>[0.025</th>    <th>0.975]</th>  \n",
       "</tr>\n",
       "<tr>\n",
       "  <th>ar.L1</th>    <td>    0.4178</td> <td>    0.062</td> <td>    6.779</td> <td> 0.000</td> <td>    0.297</td> <td>    0.539</td>\n",
       "</tr>\n",
       "<tr>\n",
       "  <th>ar.L2</th>    <td>    0.5295</td> <td>    0.048</td> <td>   11.036</td> <td> 0.000</td> <td>    0.435</td> <td>    0.624</td>\n",
       "</tr>\n",
       "<tr>\n",
       "  <th>ma.L1</th>    <td>    0.2775</td> <td>    0.066</td> <td>    4.196</td> <td> 0.000</td> <td>    0.148</td> <td>    0.407</td>\n",
       "</tr>\n",
       "<tr>\n",
       "  <th>ma.L2</th>    <td>   -0.4087</td> <td>    0.020</td> <td>  -19.983</td> <td> 0.000</td> <td>   -0.449</td> <td>   -0.369</td>\n",
       "</tr>\n",
       "<tr>\n",
       "  <th>ma.L3</th>    <td>   -0.4151</td> <td>    0.020</td> <td>  -21.157</td> <td> 0.000</td> <td>   -0.454</td> <td>   -0.377</td>\n",
       "</tr>\n",
       "<tr>\n",
       "  <th>ma.S.L7</th>  <td>   -0.0638</td> <td>    0.023</td> <td>   -2.833</td> <td> 0.005</td> <td>   -0.108</td> <td>   -0.020</td>\n",
       "</tr>\n",
       "<tr>\n",
       "  <th>ma.S.L14</th> <td>   -0.0800</td> <td>    0.045</td> <td>   -1.779</td> <td> 0.075</td> <td>   -0.168</td> <td>    0.008</td>\n",
       "</tr>\n",
       "<tr>\n",
       "  <th>sigma2</th>   <td> 2.382e+04</td> <td>  265.407</td> <td>   89.766</td> <td> 0.000</td> <td> 2.33e+04</td> <td> 2.43e+04</td>\n",
       "</tr>\n",
       "</table>\n",
       "<table class=\"simpletable\">\n",
       "<tr>\n",
       "  <th>Ljung-Box (L1) (Q):</th>     <td>0.02</td>  <th>  Jarque-Bera (JB):  </th> <td>724373.06</td>\n",
       "</tr>\n",
       "<tr>\n",
       "  <th>Prob(Q):</th>                <td>0.89</td>  <th>  Prob(JB):          </th>   <td>0.00</td>   \n",
       "</tr>\n",
       "<tr>\n",
       "  <th>Heteroskedasticity (H):</th> <td>18.85</td> <th>  Skew:              </th>   <td>9.07</td>   \n",
       "</tr>\n",
       "<tr>\n",
       "  <th>Prob(H) (two-sided):</th>    <td>0.00</td>  <th>  Kurtosis:          </th>  <td>147.29</td>  \n",
       "</tr>\n",
       "</table><br/><br/>Warnings:<br/>[1] Covariance matrix calculated using the outer product of gradients (complex-step)."
      ],
      "text/plain": [
       "<class 'statsmodels.iolib.summary.Summary'>\n",
       "\"\"\"\n",
       "                                       SARIMAX Results                                        \n",
       "==============================================================================================\n",
       "Dep. Variable:                                      q   No. Observations:                  822\n",
       "Model:             SARIMAX(2, 0, 3)x(0, 0, [1, 2], 7)   Log Likelihood               -5309.245\n",
       "Date:                                Wed, 28 Sep 2022   AIC                          10634.490\n",
       "Time:                                        14:12:35   BIC                          10672.184\n",
       "Sample:                                    01-01-2019   HQIC                         10648.952\n",
       "                                         - 04-01-2021                                         \n",
       "Covariance Type:                                  opg                                         \n",
       "==============================================================================\n",
       "                 coef    std err          z      P>|z|      [0.025      0.975]\n",
       "------------------------------------------------------------------------------\n",
       "ar.L1          0.4178      0.062      6.779      0.000       0.297       0.539\n",
       "ar.L2          0.5295      0.048     11.036      0.000       0.435       0.624\n",
       "ma.L1          0.2775      0.066      4.196      0.000       0.148       0.407\n",
       "ma.L2         -0.4087      0.020    -19.983      0.000      -0.449      -0.369\n",
       "ma.L3         -0.4151      0.020    -21.157      0.000      -0.454      -0.377\n",
       "ma.S.L7       -0.0638      0.023     -2.833      0.005      -0.108      -0.020\n",
       "ma.S.L14      -0.0800      0.045     -1.779      0.075      -0.168       0.008\n",
       "sigma2      2.382e+04    265.407     89.766      0.000    2.33e+04    2.43e+04\n",
       "===================================================================================\n",
       "Ljung-Box (L1) (Q):                   0.02   Jarque-Bera (JB):            724373.06\n",
       "Prob(Q):                              0.89   Prob(JB):                         0.00\n",
       "Heteroskedasticity (H):              18.85   Skew:                             9.07\n",
       "Prob(H) (two-sided):                  0.00   Kurtosis:                       147.29\n",
       "===================================================================================\n",
       "\n",
       "Warnings:\n",
       "[1] Covariance matrix calculated using the outer product of gradients (complex-step).\n",
       "\"\"\""
      ]
     },
     "execution_count": 31,
     "metadata": {},
     "output_type": "execute_result"
    }
   ],
   "source": [
    "model2= SARIMAX(train['q'],order=(2,0,3),seasonal_order=(0,0,2,7),enforce_invertibility=False)\n",
    "results = model2.fit()\n",
    "results.summary()"
   ]
  },
  {
   "cell_type": "code",
   "execution_count": 32,
   "id": "ec70c529",
   "metadata": {},
   "outputs": [],
   "source": [
    "exog_forecast = df1[822:][['q']]\n",
    "fcast = results.predict(len(train),len(train)+273,exog=exog_forecast).rename('SARIMAX(2,0,3)(0,0,2,7) Forecast')"
   ]
  },
  {
   "cell_type": "code",
   "execution_count": 19,
   "id": "7fb0f137",
   "metadata": {},
   "outputs": [
    {
     "data": {
      "text/plain": [
       "<matplotlib.axes._subplots.AxesSubplot at 0x15553d2fe10>"
      ]
     },
     "execution_count": 19,
     "metadata": {},
     "output_type": "execute_result"
    },
    {
     "data": {
      "image/png": "[encoded data removed]",
      "text/plain": [
       "<Figure size 1152x432 with 1 Axes>"
      ]
     },
     "metadata": {
      "needs_background": "light"
     },
     "output_type": "display_data"
    }
   ],
   "source": [
    "fcast.plot(legend=True,figsize=(16,6),c='y')"
   ]
  },
  {
   "cell_type": "code",
   "execution_count": 34,
   "id": "9d33fc8a",
   "metadata": {},
   "outputs": [],
   "source": [
    "fcast.to_csv(\"fcast.csv\", index=False)"
   ]
  },
  {
   "cell_type": "code",
   "execution_count": 35,
   "id": "52e9e703",
   "metadata": {},
   "outputs": [
    {
     "data": {
      "text/plain": [
       "2021-04-02    41.976317\n",
       "2021-04-03    36.030794\n",
       "2021-04-04    35.447794\n",
       "2021-04-05    31.380866\n",
       "2021-04-06    32.900915\n",
       "                ...    \n",
       "2021-12-27     0.003253\n",
       "2021-12-28     0.003142\n",
       "2021-12-29     0.003035\n",
       "2021-12-30     0.002932\n",
       "2021-12-31     0.002832\n",
       "Freq: D, Name: SARIMAX(2,0,3)(0,0,2,7) Forecast, Length: 274, dtype: float64"
      ]
     },
     "execution_count": 35,
     "metadata": {},
     "output_type": "execute_result"
    }
   ],
   "source": [
    "fcast"
   ]
  },
  {
   "cell_type": "code",
   "execution_count": 38,
   "id": "d2573d2f",
   "metadata": {},
   "outputs": [
    {
     "data": {
      "text/plain": [
       "<matplotlib.axes._subplots.AxesSubplot at 0x155518e1ac8>"
      ]
     },
     "execution_count": 38,
     "metadata": {},
     "output_type": "execute_result"
    },
    {
     "data": {
      "image/png": "[encoded data removed]",
      "text/plain": [
       "<Figure size 1152x432 with 1 Axes>"
      ]
     },
     "metadata": {
      "needs_background": "light"
     },
     "output_type": "display_data"
    }
   ],
   "source": [
    "test['q'].plot(legend=True,figsize=(16,6))"
   ]
  },
  {
   "cell_type": "code",
   "execution_count": 39,
   "id": "71919169",
   "metadata": {},
   "outputs": [],
   "source": [
    "test.to_csv(\"test.csv\", index=False)"
   ]
  },
  {
   "cell_type": "code",
   "execution_count": 40,
   "id": "44eeb87f",
   "metadata": {},
   "outputs": [
    {
     "data": {
      "text/html": [
       "<div>\n",
       "<style scoped>\n",
       "    .dataframe tbody tr th:only-of-type {\n",
       "        vertical-align: middle;\n",
       "    }\n",
       "\n",
       "    .dataframe tbody tr th {\n",
       "        vertical-align: top;\n",
       "    }\n",
       "\n",
       "    .dataframe thead th {\n",
       "        text-align: right;\n",
       "    }\n",
       "</style>\n",
       "<table border=\"1\" class=\"dataframe\">\n",
       "  <thead>\n",
       "    <tr style=\"text-align: right;\">\n",
       "      <th></th>\n",
       "      <th>temp</th>\n",
       "      <th>q</th>\n",
       "    </tr>\n",
       "    <tr>\n",
       "      <th>date</th>\n",
       "      <th></th>\n",
       "      <th></th>\n",
       "    </tr>\n",
       "  </thead>\n",
       "  <tbody>\n",
       "    <tr>\n",
       "      <th>2021-04-02</th>\n",
       "      <td>13.2</td>\n",
       "      <td>38.120</td>\n",
       "    </tr>\n",
       "    <tr>\n",
       "      <th>2021-04-03</th>\n",
       "      <td>10.5</td>\n",
       "      <td>78.457</td>\n",
       "    </tr>\n",
       "    <tr>\n",
       "      <th>2021-04-04</th>\n",
       "      <td>7.1</td>\n",
       "      <td>389.262</td>\n",
       "    </tr>\n",
       "    <tr>\n",
       "      <th>2021-04-05</th>\n",
       "      <td>7.7</td>\n",
       "      <td>242.339</td>\n",
       "    </tr>\n",
       "    <tr>\n",
       "      <th>2021-04-06</th>\n",
       "      <td>10.9</td>\n",
       "      <td>145.385</td>\n",
       "    </tr>\n",
       "    <tr>\n",
       "      <th>...</th>\n",
       "      <td>...</td>\n",
       "      <td>...</td>\n",
       "    </tr>\n",
       "    <tr>\n",
       "      <th>2021-12-27</th>\n",
       "      <td>-9.7</td>\n",
       "      <td>6.911</td>\n",
       "    </tr>\n",
       "    <tr>\n",
       "      <th>2021-12-28</th>\n",
       "      <td>-4.2</td>\n",
       "      <td>6.943</td>\n",
       "    </tr>\n",
       "    <tr>\n",
       "      <th>2021-12-29</th>\n",
       "      <td>0.3</td>\n",
       "      <td>6.961</td>\n",
       "    </tr>\n",
       "    <tr>\n",
       "      <th>2021-12-30</th>\n",
       "      <td>-3.6</td>\n",
       "      <td>6.997</td>\n",
       "    </tr>\n",
       "    <tr>\n",
       "      <th>2021-12-31</th>\n",
       "      <td>-7.7</td>\n",
       "      <td>7.022</td>\n",
       "    </tr>\n",
       "  </tbody>\n",
       "</table>\n",
       "<p>274 rows × 2 columns</p>\n",
       "</div>"
      ],
      "text/plain": [
       "            temp        q\n",
       "date                     \n",
       "2021-04-02  13.2   38.120\n",
       "2021-04-03  10.5   78.457\n",
       "2021-04-04   7.1  389.262\n",
       "2021-04-05   7.7  242.339\n",
       "2021-04-06  10.9  145.385\n",
       "...          ...      ...\n",
       "2021-12-27  -9.7    6.911\n",
       "2021-12-28  -4.2    6.943\n",
       "2021-12-29   0.3    6.961\n",
       "2021-12-30  -3.6    6.997\n",
       "2021-12-31  -7.7    7.022\n",
       "\n",
       "[274 rows x 2 columns]"
      ]
     },
     "execution_count": 40,
     "metadata": {},
     "output_type": "execute_result"
    }
   ],
   "source": [
    "test"
   ]
  },
  {
   "cell_type": "code",
   "execution_count": 22,
   "id": "9035475e",
   "metadata": {},
   "outputs": [
    {
     "data": {
      "text/plain": [
       "<statsmodels.tsa.statespace.sarimax.SARIMAX at 0x155516db320>"
      ]
     },
     "execution_count": 22,
     "metadata": {},
     "output_type": "execute_result"
    }
   ],
   "source": [
    "model2"
   ]
  },
  {
   "cell_type": "code",
   "execution_count": 23,
   "id": "108adf5d",
   "metadata": {},
   "outputs": [],
   "source": [
    "results = model2.fit()"
   ]
  },
  {
   "cell_type": "code",
   "execution_count": 24,
   "id": "56b51a1e",
   "metadata": {},
   "outputs": [],
   "source": [
    "pred_y=results.forecast()"
   ]
  },
  {
   "cell_type": "code",
   "execution_count": 25,
   "id": "71184cf9",
   "metadata": {},
   "outputs": [
    {
     "data": {
      "text/plain": [
       "2021-04-02    41.976317\n",
       "Freq: D, dtype: float64"
      ]
     },
     "execution_count": 25,
     "metadata": {},
     "output_type": "execute_result"
    }
   ],
   "source": [
    "pred_y"
   ]
  },
  {
   "cell_type": "code",
   "execution_count": 26,
   "id": "b757be4c",
   "metadata": {},
   "outputs": [],
   "source": [
    "test_y=test['q']"
   ]
  },
  {
   "cell_type": "code",
   "execution_count": 27,
   "id": "1f5e92f0",
   "metadata": {},
   "outputs": [
    {
     "data": {
      "text/plain": [
       "date\n",
       "2021-04-02     38.120\n",
       "2021-04-03     78.457\n",
       "2021-04-04    389.262\n",
       "2021-04-05    242.339\n",
       "2021-04-06    145.385\n",
       "               ...   \n",
       "2021-12-27      6.911\n",
       "2021-12-28      6.943\n",
       "2021-12-29      6.961\n",
       "2021-12-30      6.997\n",
       "2021-12-31      7.022\n",
       "Freq: D, Name: q, Length: 274, dtype: float64"
      ]
     },
     "execution_count": 27,
     "metadata": {},
     "output_type": "execute_result"
    }
   ],
   "source": [
    "test_y"
   ]
  },
  {
   "cell_type": "code",
   "execution_count": 28,
   "id": "16112f24",
   "metadata": {},
   "outputs": [
    {
     "data": {
      "image/png": "[encoded data removed]",
      "text/plain": [
       "<Figure size 864x432 with 1 Axes>"
      ]
     },
     "metadata": {
      "needs_background": "light"
     },
     "output_type": "display_data"
    }
   ],
   "source": [
    "# Plot predictions against known values\n",
    "title = 'test and prediction of q'\n",
    "ylabel='q'\n",
    "xlabel=''\n",
    "\n",
    "ax = test_y.plot(legend=False,figsize=(12,6),title=title)\n",
    "pred_y.plot(legend=False)\n",
    "ax.autoscale(axis='x',tight=True)\n",
    "ax.set(xlabel=xlabel, ylabel=ylabel);"
   ]
  },
  {
   "cell_type": "code",
   "execution_count": 33,
   "id": "15903201",
   "metadata": {},
   "outputs": [
    {
     "data": {
      "text/plain": [
       "<matplotlib.axes._subplots.AxesSubplot at 0x15553eba898>"
      ]
     },
     "execution_count": 33,
     "metadata": {},
     "output_type": "execute_result"
    },
    {
     "data": {
      "image/png": "[encoded data removed]",
      "text/plain": [
       "<Figure size 432x288 with 1 Axes>"
      ]
     },
     "metadata": {
      "needs_background": "light"
     },
     "output_type": "display_data"
    }
   ],
   "source": [
    "fcast.plot(legend=False)"
   ]
  },
  {
   "cell_type": "code",
   "execution_count": 60,
   "id": "db19d1ce",
   "metadata": {},
   "outputs": [
    {
     "data": {
      "text/plain": [
       "<matplotlib.axes._subplots.AxesSubplot at 0x18080a59080>"
      ]
     },
     "execution_count": 60,
     "metadata": {},
     "output_type": "execute_result"
    },
    {
     "data": {
      "image/png": "[encoded data removed]",
      "text/plain": [
       "<Figure size 432x288 with 1 Axes>"
      ]
     },
     "metadata": {
      "needs_background": "light"
     },
     "output_type": "display_data"
    }
   ],
   "source": [
    "test_y2.plot(legend=False)"
   ]
  },
  {
   "cell_type": "code",
   "execution_count": 48,
   "id": "b74aba11",
   "metadata": {},
   "outputs": [],
   "source": [
    "from sklearn.metrics import mean_squared_error"
   ]
  },
  {
   "cell_type": "code",
   "execution_count": 40,
   "id": "81610de8",
   "metadata": {},
   "outputs": [],
   "source": [
    "from math import sqrt"
   ]
  },
  {
   "cell_type": "code",
   "execution_count": 82,
   "id": "fd7eef96",
   "metadata": {},
   "outputs": [
    {
     "data": {
      "text/plain": [
       "2021-04-02    41.985174\n",
       "2021-04-03    36.045099\n",
       "2021-04-04    35.464381\n",
       "Freq: D, Name: predicted_mean, dtype: float64"
      ]
     },
     "execution_count": 82,
     "metadata": {},
     "output_type": "execute_result"
    }
   ],
   "source": [
    "pred_y=results.forecast(steps=3)\n",
    "test_y=test[0:3]\n",
    "pred_y"
   ]
  },
  {
   "cell_type": "code",
   "execution_count": 83,
   "id": "5a5732a0",
   "metadata": {},
   "outputs": [
    {
     "data": {
      "text/html": [
       "<div>\n",
       "<style scoped>\n",
       "    .dataframe tbody tr th:only-of-type {\n",
       "        vertical-align: middle;\n",
       "    }\n",
       "\n",
       "    .dataframe tbody tr th {\n",
       "        vertical-align: top;\n",
       "    }\n",
       "\n",
       "    .dataframe thead th {\n",
       "        text-align: right;\n",
       "    }\n",
       "</style>\n",
       "<table border=\"1\" class=\"dataframe\">\n",
       "  <thead>\n",
       "    <tr style=\"text-align: right;\">\n",
       "      <th></th>\n",
       "      <th>temp</th>\n",
       "      <th>q</th>\n",
       "    </tr>\n",
       "    <tr>\n",
       "      <th>date</th>\n",
       "      <th></th>\n",
       "      <th></th>\n",
       "    </tr>\n",
       "  </thead>\n",
       "  <tbody>\n",
       "    <tr>\n",
       "      <th>2021-04-02</th>\n",
       "      <td>13.2</td>\n",
       "      <td>38.120</td>\n",
       "    </tr>\n",
       "    <tr>\n",
       "      <th>2021-04-03</th>\n",
       "      <td>10.5</td>\n",
       "      <td>78.457</td>\n",
       "    </tr>\n",
       "    <tr>\n",
       "      <th>2021-04-04</th>\n",
       "      <td>7.1</td>\n",
       "      <td>389.262</td>\n",
       "    </tr>\n",
       "  </tbody>\n",
       "</table>\n",
       "</div>"
      ],
      "text/plain": [
       "            temp        q\n",
       "date                     \n",
       "2021-04-02  13.2   38.120\n",
       "2021-04-03  10.5   78.457\n",
       "2021-04-04   7.1  389.262"
      ]
     },
     "execution_count": 83,
     "metadata": {},
     "output_type": "execute_result"
    }
   ],
   "source": [
    "test_y"
   ]
  },
  {
   "cell_type": "code",
   "execution_count": 84,
   "id": "08244ed7",
   "metadata": {},
   "outputs": [
    {
     "name": "stdout",
     "output_type": "stream",
     "text": [
      "SARIMA(0,1,3)(1,0,1,12) MSE Error: 42328.82129\n"
     ]
    }
   ],
   "source": [
    "from sklearn.metrics import mean_squared_error\n",
    "\n",
    "error = mean_squared_error(test_y['q'], pred_y)\n",
    "print(f'SARIMA(0,1,3)(1,0,1,12) MSE Error: {error:11.10}')"
   ]
  },
  {
   "cell_type": "code",
   "execution_count": 85,
   "id": "add71504",
   "metadata": {},
   "outputs": [
    {
     "name": "stdout",
     "output_type": "stream",
     "text": [
      "SARIMA(0,1,3)(1,0,1,12) RMSE Error:  205.739693\n"
     ]
    }
   ],
   "source": [
    "from statsmodels.tools.eval_measures import rmse\n",
    "\n",
    "error = rmse(test_y['q'], pred_y)\n",
    "print(f'SARIMA(0,1,3)(1,0,1,12) RMSE Error: {error:11.10}')"
   ]
  },
  {
   "cell_type": "code",
   "execution_count": 86,
   "id": "2cbb15b6",
   "metadata": {},
   "outputs": [],
   "source": [
    "pred_y2=results.forecast(steps=7)\n",
    "test_y2=test[0:7]"
   ]
  },
  {
   "cell_type": "code",
   "execution_count": 88,
   "id": "5fe42f6d",
   "metadata": {},
   "outputs": [
    {
     "name": "stdout",
     "output_type": "stream",
     "text": [
      "SARIMA(0,1,3)(1,0,1,12) MSE Error: 27356.99713\n"
     ]
    }
   ],
   "source": [
    "from sklearn.metrics import mean_squared_error\n",
    "\n",
    "error = mean_squared_error(test_y2['q'], pred_y2)\n",
    "print(f'SARIMA(0,1,3)(1,0,1,12) MSE Error: {error:11.10}')"
   ]
  },
  {
   "cell_type": "code",
   "execution_count": 89,
   "id": "177752bf",
   "metadata": {},
   "outputs": [
    {
     "name": "stdout",
     "output_type": "stream",
     "text": [
      "SARIMA(0,1,3)(1,0,1,12) RMSE Error: 165.3995077\n"
     ]
    }
   ],
   "source": [
    "from statsmodels.tools.eval_measures import rmse\n",
    "\n",
    "error = rmse(test_y2['q'], pred_y2)\n",
    "print(f'SARIMA(0,1,3)(1,0,1,12) RMSE Error: {error:11.10}')"
   ]
  },
  {
   "cell_type": "code",
   "execution_count": 90,
   "id": "4dcc116d",
   "metadata": {},
   "outputs": [],
   "source": [
    "pred_y3=results.forecast(steps=30)\n",
    "test_y3=test[0:30]"
   ]
  },
  {
   "cell_type": "code",
   "execution_count": 91,
   "id": "95a2d13f",
   "metadata": {},
   "outputs": [
    {
     "name": "stdout",
     "output_type": "stream",
     "text": [
      "SARIMA(0,1,3)(1,0,1,12) MSE Error: 7731.824457\n"
     ]
    }
   ],
   "source": [
    "from sklearn.metrics import mean_squared_error\n",
    "\n",
    "error = mean_squared_error(test_y3['q'], pred_y3)\n",
    "print(f'SARIMA(0,1,3)(1,0,1,12) MSE Error: {error:11.10}')"
   ]
  },
  {
   "cell_type": "code",
   "execution_count": 92,
   "id": "68bef300",
   "metadata": {},
   "outputs": [
    {
     "name": "stdout",
     "output_type": "stream",
     "text": [
      "SARIMA(0,1,3)(1,0,1,12) RMSE Error: 87.93079357\n"
     ]
    }
   ],
   "source": [
    "from statsmodels.tools.eval_measures import rmse\n",
    "\n",
    "error = rmse(test_y3['q'], pred_y3)\n",
    "print(f'SARIMA(0,1,3)(1,0,1,12) RMSE Error: {error:11.10}')"
   ]
  },
  {
   "cell_type": "code",
   "execution_count": null,
   "id": "3290bfe8",
   "metadata": {},
   "outputs": [],
   "source": []
  }
 ],
 "metadata": {
  "kernelspec": {
   "display_name": "Python 3 (ipykernel)",
   "language": "python",
   "name": "python3"
  },
  "language_info": {
   "codemirror_mode": {
    "name": "ipython",
    "version": 3
   },
   "file_extension": ".py",
   "mimetype": "text/x-python",
   "name": "python",
   "nbconvert_exporter": "python",
   "pygments_lexer": "ipython3",
   "version": "3.7.2"
  }
 },
 "nbformat": 4,
 "nbformat_minor": 5
}
