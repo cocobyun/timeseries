{
 "cells": [
  {
   "cell_type": "code",
   "execution_count": 1,
   "id": "ac9f3d51",
   "metadata": {},
   "outputs": [],
   "source": [
    "import pandas as pd\n",
    "import numpy as np\n",
    "%matplotlib inline\n",
    "\n",
    "# Ignore harmless warnings\n",
    "import warnings\n",
    "warnings.filterwarnings(\"ignore\")\n",
    "\n",
    "# Load a seasonal dataset\n",
    "df1 = pd.read_csv('tempandq.csv',index_col='date',parse_dates=True)\n",
    "df1.index.freq = 'D'\n"
   ]
  },
  {
   "cell_type": "code",
   "execution_count": 2,
   "id": "a98daed5",
   "metadata": {},
   "outputs": [],
   "source": [
    "from statsmodels.tsa.stattools import ccovf,ccf,periodogram"
   ]
  },
  {
   "cell_type": "code",
   "execution_count": 3,
   "id": "e89707bf",
   "metadata": {},
   "outputs": [],
   "source": [
    "from statsmodels.tsa.stattools import adfuller,kpss,coint,bds,q_stat,grangercausalitytests,levinson_durbin"
   ]
  },
  {
   "cell_type": "code",
   "execution_count": 4,
   "id": "e362c270",
   "metadata": {},
   "outputs": [],
   "source": [
    "from statsmodels.tools.eval_measures import mse, rmse, meanabs"
   ]
  },
  {
   "cell_type": "code",
   "execution_count": 6,
   "id": "d14d4774",
   "metadata": {},
   "outputs": [
    {
     "data": {
      "image/png": "[encoded data removed]",
      "text/plain": [
       "<Figure size 432x288 with 1 Axes>"
      ]
     },
     "metadata": {
      "needs_background": "light"
     },
     "output_type": "display_data"
    }
   ],
   "source": [
    "df1['365-day-SMA'] = df1['q'].rolling(window=12).mean()\n",
    "df1['365-day-Std'] = df1['q'].rolling(window=12).std()\n",
    "\n",
    "df1[['q','365-day-SMA','365-day-Std']].plot();"
   ]
  },
  {
   "cell_type": "code",
   "execution_count": 7,
   "id": "bccbf6ab",
   "metadata": {},
   "outputs": [
    {
     "name": "stdout",
     "output_type": "stream",
     "text": [
      "Augmented Dickey-Fuller Test on q Data\n"
     ]
    },
    {
     "data": {
      "text/plain": [
       "(-9.554311169166896,\n",
       " 2.522817679031429e-16,\n",
       " 33,\n",
       " 5810,\n",
       " {'1%': -3.4314760226350725,\n",
       "  '5%': -2.8620375955128576,\n",
       "  '10%': -2.5670348680682897},\n",
       " 75042.18467014028)"
      ]
     },
     "execution_count": 7,
     "metadata": {},
     "output_type": "execute_result"
    }
   ],
   "source": [
    "print('Augmented Dickey-Fuller Test on q Data')\n",
    "dftest = adfuller(df1['q'],autolag='AIC')\n",
    "dftest"
   ]
  },
  {
   "cell_type": "code",
   "execution_count": 8,
   "id": "beaaa630",
   "metadata": {},
   "outputs": [
    {
     "name": "stdout",
     "output_type": "stream",
     "text": [
      "Augmented Dickey-Fuller Test on q Data\n",
      "ADF test statistic     -9.554311e+00\n",
      "p-value                 2.522818e-16\n",
      "# lags used             3.300000e+01\n",
      "# observations          5.810000e+03\n",
      "critical value (1%)    -3.431476e+00\n",
      "critical value (5%)    -2.862038e+00\n",
      "critical value (10%)   -2.567035e+00\n",
      "dtype: float64\n"
     ]
    }
   ],
   "source": [
    "print('Augmented Dickey-Fuller Test on q Data')\n",
    "\n",
    "dfout = pd.Series(dftest[0:4],index=['ADF test statistic','p-value','# lags used','# observations'])\n",
    "\n",
    "for key,val in dftest[4].items():\n",
    "    dfout[f'critical value ({key})']=val\n",
    "print(dfout)"
   ]
  },
  {
   "cell_type": "code",
   "execution_count": 9,
   "id": "0220aee1",
   "metadata": {},
   "outputs": [],
   "source": [
    "from statsmodels.tsa.stattools import adfuller\n",
    "\n",
    "def adf_test(series,title=''):\n",
    "    \"\"\"\n",
    "    Pass in a time series and an optional title, returns an ADF report\n",
    "    \"\"\"\n",
    "    print(f'Augmented Dickey-Fuller Test: {title}')\n",
    "    result = adfuller(series.dropna(),autolag='AIC') # .dropna() handles differenced data\n",
    "    \n",
    "    labels = ['ADF test statistic','p-value','# lags used','# observations']\n",
    "    out = pd.Series(result[0:4],index=labels)\n",
    "\n",
    "    for key,val in result[4].items():\n",
    "        out[f'critical value ({key})']=val\n",
    "        \n",
    "    print(out.to_string())          # .to_string() removes the line \"dtype: float64\"\n",
    "    \n",
    "    if result[1] <= 0.05:\n",
    "        print(\"Strong evidence against the null hypothesis\")\n",
    "        print(\"Reject the null hypothesis\")\n",
    "        print(\"Data has no unit root and is stationary\")\n",
    "    else:\n",
    "        print(\"Weak evidence against the null hypothesis\")\n",
    "        print(\"Fail to reject the null hypothesis\")\n",
    "        print(\"Data has a unit root and is non-stationary\")"
   ]
  },
  {
   "cell_type": "code",
   "execution_count": null,
   "id": "d561e167",
   "metadata": {},
   "outputs": [],
   "source": []
  }
 ],
 "metadata": {
  "kernelspec": {
   "display_name": "Python 3 (ipykernel)",
   "language": "python",
   "name": "python3"
  },
  "language_info": {
   "codemirror_mode": {
    "name": "ipython",
    "version": 3
   },
   "file_extension": ".py",
   "mimetype": "text/x-python",
   "name": "python",
   "nbconvert_exporter": "python",
   "pygments_lexer": "ipython3",
   "version": "3.7.2"
  }
 },
 "nbformat": 4,
 "nbformat_minor": 5
}
