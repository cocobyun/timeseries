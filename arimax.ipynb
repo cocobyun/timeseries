{
 "cells": [
  {
   "cell_type": "code",
   "execution_count": 2,
   "id": "a3e9fd32",
   "metadata": {},
   "outputs": [],
   "source": [
    "import numpy as np\n",
    "import pandas as pd\n",
    "\n",
    "df2=pd.read_csv('soyang3.csv',index_col=0, header=0)\n",
    "df1=pd.read_csv('soyangpre.csv',index_col=0, header=0)"
   ]
  },
  {
   "cell_type": "code",
   "execution_count": 1,
   "id": "12f6c5c9",
   "metadata": {},
   "outputs": [],
   "source": [
    "from statsmodels.tsa.api import VAR\n",
    "from statsmodels.tsa.arima_model import ARIMA\n",
    "from statsmodels.graphics.tsaplots import plot_acf,plot_pacf\n",
    "from statsmodels.tsa.stattools import adfuller\n",
    "from statsmodels.tsa.statespace.sarimax import SARIMAX\n",
    "from statsmodels.tsa.seasonal import seasonal_decompose"
   ]
  },
  {
   "cell_type": "code",
   "execution_count": 14,
   "id": "ea60eb5c",
   "metadata": {},
   "outputs": [],
   "source": [
    "%matplotlib inline\n",
    "\n",
    "from statsmodels.graphics.tsaplots import plot_acf,plot_pacf # for determining (p,q) orders\n",
    "from pmdarima import auto_arima                       # for determining ARIMA orders\n",
    "\n",
    "# Ignore harmless warnings\n",
    "import warnings\n",
    "warnings.filterwarnings(\"ignore\")"
   ]
  },
  {
   "cell_type": "code",
   "execution_count": 11,
   "id": "0bfd8c08",
   "metadata": {},
   "outputs": [],
   "source": [
    "import six\n",
    "import sys\n",
    "sys.modules['sklearn.externals.six'] = six"
   ]
  },
  {
   "cell_type": "code",
   "execution_count": 13,
   "id": "9250a773",
   "metadata": {},
   "outputs": [],
   "source": [
    "import joblib\n",
    "\n",
    "sys.modules['sklearn.externals.joblib'] = joblib"
   ]
  },
  {
   "cell_type": "code",
   "execution_count": 6,
   "id": "331244ce",
   "metadata": {},
   "outputs": [],
   "source": [
    "from statsmodels.tsa.stattools import adfuller\n",
    "\n",
    "def adf_test(series,title=''):\n",
    "    \"\"\"\n",
    "    Pass in a time series and an optional title, returns an ADF report\n",
    "    \"\"\"\n",
    "    print(f'Augmented Dickey-Fuller Test: {title}')\n",
    "    result = adfuller(series.dropna(),autolag='AIC') # .dropna() handles differenced data\n",
    "    \n",
    "    labels = ['ADF test statistic','p-value','# lags used','# observations']\n",
    "    out = pd.Series(result[0:4],index=labels)\n",
    "\n",
    "    for key,val in result[4].items():\n",
    "        out[f'critical value ({key})']=val\n",
    "        \n",
    "    print(out.to_string())          # .to_string() removes the line \"dtype: float64\"\n",
    "    \n",
    "    if result[1] <= 0.05:\n",
    "        print(\"Strong evidence against the null hypothesis\")\n",
    "        print(\"Reject the null hypothesis\")\n",
    "        print(\"Data has no unit root and is stationary\")\n",
    "    else:\n",
    "        print(\"Weak evidence against the null hypothesis\")\n",
    "        print(\"Fail to reject the null hypothesis\")\n",
    "        print(\"Data has a unit root and is non-stationary\")"
   ]
  },
  {
   "cell_type": "code",
   "execution_count": 7,
   "id": "dc32087f",
   "metadata": {},
   "outputs": [
    {
     "name": "stdout",
     "output_type": "stream",
     "text": [
      "Augmented Dickey-Fuller Test: \n",
      "ADF test statistic     -6.211313e+00\n",
      "p-value                 5.499029e-08\n",
      "# lags used             1.100000e+01\n",
      "# observations          1.084000e+03\n",
      "critical value (1%)    -3.436397e+00\n",
      "critical value (5%)    -2.864210e+00\n",
      "critical value (10%)   -2.568192e+00\n",
      "Strong evidence against the null hypothesis\n",
      "Reject the null hypothesis\n",
      "Data has no unit root and is stationary\n"
     ]
    }
   ],
   "source": [
    "adf_test(df1['prec'])"
   ]
  },
  {
   "cell_type": "code",
   "execution_count": 8,
   "id": "b689a1dc",
   "metadata": {},
   "outputs": [
    {
     "name": "stdout",
     "output_type": "stream",
     "text": [
      "Augmented Dickey-Fuller Test: \n",
      "ADF test statistic     -6.237035e+00\n",
      "p-value                 4.797608e-08\n",
      "# lags used             1.200000e+01\n",
      "# observations          1.083000e+03\n",
      "critical value (1%)    -3.436403e+00\n",
      "critical value (5%)    -2.864212e+00\n",
      "critical value (10%)   -2.568193e+00\n",
      "Strong evidence against the null hypothesis\n",
      "Reject the null hypothesis\n",
      "Data has no unit root and is stationary\n"
     ]
    }
   ],
   "source": [
    "adf_test(df2['q'])"
   ]
  },
  {
   "cell_type": "code",
   "execution_count": 15,
   "id": "af1e0cd0",
   "metadata": {},
   "outputs": [
    {
     "data": {
      "text/html": [
       "<table class=\"simpletable\">\n",
       "<caption>SARIMAX Results</caption>\n",
       "<tr>\n",
       "  <th>Dep. Variable:</th>                    <td>y</td>                 <th>  No. Observations:  </th>   <td>1096</td>   \n",
       "</tr>\n",
       "<tr>\n",
       "  <th>Model:</th>           <td>SARIMAX(2, 0, 3)x(0, 0, [1, 2], 7)</td> <th>  Log Likelihood     </th> <td>-6934.585</td>\n",
       "</tr>\n",
       "<tr>\n",
       "  <th>Date:</th>                     <td>Fri, 12 Aug 2022</td>          <th>  AIC                </th> <td>13887.170</td>\n",
       "</tr>\n",
       "<tr>\n",
       "  <th>Time:</th>                         <td>10:28:55</td>              <th>  BIC                </th> <td>13932.165</td>\n",
       "</tr>\n",
       "<tr>\n",
       "  <th>Sample:</th>                           <td>0</td>                 <th>  HQIC               </th> <td>13904.195</td>\n",
       "</tr>\n",
       "<tr>\n",
       "  <th></th>                               <td> - 1096</td>              <th>                     </th>     <td> </td>    \n",
       "</tr>\n",
       "<tr>\n",
       "  <th>Covariance Type:</th>                 <td>opg</td>                <th>                     </th>     <td> </td>    \n",
       "</tr>\n",
       "</table>\n",
       "<table class=\"simpletable\">\n",
       "<tr>\n",
       "      <td></td>         <th>coef</th>     <th>std err</th>      <th>z</th>      <th>P>|z|</th>  <th>[0.025</th>    <th>0.975]</th>  \n",
       "</tr>\n",
       "<tr>\n",
       "  <th>intercept</th> <td>    5.0018</td> <td>    5.968</td> <td>    0.838</td> <td> 0.402</td> <td>   -6.696</td> <td>   16.699</td>\n",
       "</tr>\n",
       "<tr>\n",
       "  <th>ar.L1</th>     <td>    0.3935</td> <td>    0.056</td> <td>    7.018</td> <td> 0.000</td> <td>    0.284</td> <td>    0.503</td>\n",
       "</tr>\n",
       "<tr>\n",
       "  <th>ar.L2</th>     <td>    0.5270</td> <td>    0.038</td> <td>   13.886</td> <td> 0.000</td> <td>    0.453</td> <td>    0.601</td>\n",
       "</tr>\n",
       "<tr>\n",
       "  <th>ma.L1</th>     <td>    0.3012</td> <td>    0.059</td> <td>    5.146</td> <td> 0.000</td> <td>    0.186</td> <td>    0.416</td>\n",
       "</tr>\n",
       "<tr>\n",
       "  <th>ma.L2</th>     <td>   -0.3908</td> <td>    0.021</td> <td>  -18.962</td> <td> 0.000</td> <td>   -0.431</td> <td>   -0.350</td>\n",
       "</tr>\n",
       "<tr>\n",
       "  <th>ma.L3</th>     <td>   -0.3999</td> <td>    0.018</td> <td>  -22.492</td> <td> 0.000</td> <td>   -0.435</td> <td>   -0.365</td>\n",
       "</tr>\n",
       "<tr>\n",
       "  <th>ma.S.L7</th>   <td>   -0.0567</td> <td>    0.019</td> <td>   -2.936</td> <td> 0.003</td> <td>   -0.095</td> <td>   -0.019</td>\n",
       "</tr>\n",
       "<tr>\n",
       "  <th>ma.S.L14</th>  <td>   -0.0722</td> <td>    0.039</td> <td>   -1.858</td> <td> 0.063</td> <td>   -0.148</td> <td>    0.004</td>\n",
       "</tr>\n",
       "<tr>\n",
       "  <th>sigma2</th>    <td> 1.829e+04</td> <td>  192.727</td> <td>   94.902</td> <td> 0.000</td> <td> 1.79e+04</td> <td> 1.87e+04</td>\n",
       "</tr>\n",
       "</table>\n",
       "<table class=\"simpletable\">\n",
       "<tr>\n",
       "  <th>Ljung-Box (L1) (Q):</th>     <td>0.01</td> <th>  Jarque-Bera (JB):  </th> <td>1603474.10</td>\n",
       "</tr>\n",
       "<tr>\n",
       "  <th>Prob(Q):</th>                <td>0.94</td> <th>  Prob(JB):          </th>    <td>0.00</td>   \n",
       "</tr>\n",
       "<tr>\n",
       "  <th>Heteroskedasticity (H):</th> <td>0.57</td> <th>  Skew:              </th>    <td>10.34</td>  \n",
       "</tr>\n",
       "<tr>\n",
       "  <th>Prob(H) (two-sided):</th>    <td>0.00</td> <th>  Kurtosis:          </th>   <td>189.24</td>  \n",
       "</tr>\n",
       "</table><br/><br/>Warnings:<br/>[1] Covariance matrix calculated using the outer product of gradients (complex-step)."
      ],
      "text/plain": [
       "<class 'statsmodels.iolib.summary.Summary'>\n",
       "\"\"\"\n",
       "                                       SARIMAX Results                                        \n",
       "==============================================================================================\n",
       "Dep. Variable:                                      y   No. Observations:                 1096\n",
       "Model:             SARIMAX(2, 0, 3)x(0, 0, [1, 2], 7)   Log Likelihood               -6934.585\n",
       "Date:                                Fri, 12 Aug 2022   AIC                          13887.170\n",
       "Time:                                        10:28:55   BIC                          13932.165\n",
       "Sample:                                             0   HQIC                         13904.195\n",
       "                                               - 1096                                         \n",
       "Covariance Type:                                  opg                                         \n",
       "==============================================================================\n",
       "                 coef    std err          z      P>|z|      [0.025      0.975]\n",
       "------------------------------------------------------------------------------\n",
       "intercept      5.0018      5.968      0.838      0.402      -6.696      16.699\n",
       "ar.L1          0.3935      0.056      7.018      0.000       0.284       0.503\n",
       "ar.L2          0.5270      0.038     13.886      0.000       0.453       0.601\n",
       "ma.L1          0.3012      0.059      5.146      0.000       0.186       0.416\n",
       "ma.L2         -0.3908      0.021    -18.962      0.000      -0.431      -0.350\n",
       "ma.L3         -0.3999      0.018    -22.492      0.000      -0.435      -0.365\n",
       "ma.S.L7       -0.0567      0.019     -2.936      0.003      -0.095      -0.019\n",
       "ma.S.L14      -0.0722      0.039     -1.858      0.063      -0.148       0.004\n",
       "sigma2      1.829e+04    192.727     94.902      0.000    1.79e+04    1.87e+04\n",
       "===================================================================================\n",
       "Ljung-Box (L1) (Q):                   0.01   Jarque-Bera (JB):           1603474.10\n",
       "Prob(Q):                              0.94   Prob(JB):                         0.00\n",
       "Heteroskedasticity (H):               0.57   Skew:                            10.34\n",
       "Prob(H) (two-sided):                  0.00   Kurtosis:                       189.24\n",
       "===================================================================================\n",
       "\n",
       "Warnings:\n",
       "[1] Covariance matrix calculated using the outer product of gradients (complex-step).\n",
       "\"\"\""
      ]
     },
     "execution_count": 15,
     "metadata": {},
     "output_type": "execute_result"
    }
   ],
   "source": [
    "auto_arima(df2['q'],seasonal=True,m=7).summary()"
   ]
  },
  {
   "cell_type": "code",
   "execution_count": 16,
   "id": "cbc29d37",
   "metadata": {},
   "outputs": [
    {
     "data": {
      "text/plain": [
       "1096"
      ]
     },
     "execution_count": 16,
     "metadata": {},
     "output_type": "execute_result"
    }
   ],
   "source": [
    "len(df2)"
   ]
  },
  {
   "cell_type": "code",
   "execution_count": 19,
   "id": "35253d24",
   "metadata": {},
   "outputs": [],
   "source": [
    "# Set four weeks for testing\n",
    "train = df2.iloc[:822]\n",
    "test = df2.iloc[822:]"
   ]
  },
  {
   "cell_type": "code",
   "execution_count": 31,
   "id": "00823139",
   "metadata": {},
   "outputs": [],
   "source": [
    "train2 = df1.iloc[:822]\n",
    "test2 = df1.iloc[822:]"
   ]
  },
  {
   "cell_type": "code",
   "execution_count": 20,
   "id": "09eac33d",
   "metadata": {},
   "outputs": [
    {
     "data": {
      "text/html": [
       "<table class=\"simpletable\">\n",
       "<caption>SARIMAX Results</caption>\n",
       "<tr>\n",
       "  <th>Dep. Variable:</th>                    <td>q</td>                 <th>  No. Observations:  </th>    <td>822</td>   \n",
       "</tr>\n",
       "<tr>\n",
       "  <th>Model:</th>           <td>SARIMAX(2, 0, 3)x(0, 0, [1, 2], 7)</td> <th>  Log Likelihood     </th> <td>-5309.245</td>\n",
       "</tr>\n",
       "<tr>\n",
       "  <th>Date:</th>                     <td>Fri, 12 Aug 2022</td>          <th>  AIC                </th> <td>10634.490</td>\n",
       "</tr>\n",
       "<tr>\n",
       "  <th>Time:</th>                         <td>10:30:29</td>              <th>  BIC                </th> <td>10672.184</td>\n",
       "</tr>\n",
       "<tr>\n",
       "  <th>Sample:</th>                      <td>01-01-2019</td>             <th>  HQIC               </th> <td>10648.952</td>\n",
       "</tr>\n",
       "<tr>\n",
       "  <th></th>                            <td>- 04-01-2021</td>            <th>                     </th>     <td> </td>    \n",
       "</tr>\n",
       "<tr>\n",
       "  <th>Covariance Type:</th>                 <td>opg</td>                <th>                     </th>     <td> </td>    \n",
       "</tr>\n",
       "</table>\n",
       "<table class=\"simpletable\">\n",
       "<tr>\n",
       "      <td></td>        <th>coef</th>     <th>std err</th>      <th>z</th>      <th>P>|z|</th>  <th>[0.025</th>    <th>0.975]</th>  \n",
       "</tr>\n",
       "<tr>\n",
       "  <th>ar.L1</th>    <td>    0.4178</td> <td>    0.062</td> <td>    6.779</td> <td> 0.000</td> <td>    0.297</td> <td>    0.539</td>\n",
       "</tr>\n",
       "<tr>\n",
       "  <th>ar.L2</th>    <td>    0.5295</td> <td>    0.048</td> <td>   11.036</td> <td> 0.000</td> <td>    0.435</td> <td>    0.624</td>\n",
       "</tr>\n",
       "<tr>\n",
       "  <th>ma.L1</th>    <td>    0.2775</td> <td>    0.066</td> <td>    4.196</td> <td> 0.000</td> <td>    0.148</td> <td>    0.407</td>\n",
       "</tr>\n",
       "<tr>\n",
       "  <th>ma.L2</th>    <td>   -0.4087</td> <td>    0.020</td> <td>  -19.983</td> <td> 0.000</td> <td>   -0.449</td> <td>   -0.369</td>\n",
       "</tr>\n",
       "<tr>\n",
       "  <th>ma.L3</th>    <td>   -0.4151</td> <td>    0.020</td> <td>  -21.157</td> <td> 0.000</td> <td>   -0.454</td> <td>   -0.377</td>\n",
       "</tr>\n",
       "<tr>\n",
       "  <th>ma.S.L7</th>  <td>   -0.0638</td> <td>    0.023</td> <td>   -2.833</td> <td> 0.005</td> <td>   -0.108</td> <td>   -0.020</td>\n",
       "</tr>\n",
       "<tr>\n",
       "  <th>ma.S.L14</th> <td>   -0.0800</td> <td>    0.045</td> <td>   -1.779</td> <td> 0.075</td> <td>   -0.168</td> <td>    0.008</td>\n",
       "</tr>\n",
       "<tr>\n",
       "  <th>sigma2</th>   <td> 2.382e+04</td> <td>  265.407</td> <td>   89.766</td> <td> 0.000</td> <td> 2.33e+04</td> <td> 2.43e+04</td>\n",
       "</tr>\n",
       "</table>\n",
       "<table class=\"simpletable\">\n",
       "<tr>\n",
       "  <th>Ljung-Box (L1) (Q):</th>     <td>0.02</td>  <th>  Jarque-Bera (JB):  </th> <td>724373.06</td>\n",
       "</tr>\n",
       "<tr>\n",
       "  <th>Prob(Q):</th>                <td>0.89</td>  <th>  Prob(JB):          </th>   <td>0.00</td>   \n",
       "</tr>\n",
       "<tr>\n",
       "  <th>Heteroskedasticity (H):</th> <td>18.85</td> <th>  Skew:              </th>   <td>9.07</td>   \n",
       "</tr>\n",
       "<tr>\n",
       "  <th>Prob(H) (two-sided):</th>    <td>0.00</td>  <th>  Kurtosis:          </th>  <td>147.29</td>  \n",
       "</tr>\n",
       "</table><br/><br/>Warnings:<br/>[1] Covariance matrix calculated using the outer product of gradients (complex-step)."
      ],
      "text/plain": [
       "<class 'statsmodels.iolib.summary.Summary'>\n",
       "\"\"\"\n",
       "                                       SARIMAX Results                                        \n",
       "==============================================================================================\n",
       "Dep. Variable:                                      q   No. Observations:                  822\n",
       "Model:             SARIMAX(2, 0, 3)x(0, 0, [1, 2], 7)   Log Likelihood               -5309.245\n",
       "Date:                                Fri, 12 Aug 2022   AIC                          10634.490\n",
       "Time:                                        10:30:29   BIC                          10672.184\n",
       "Sample:                                    01-01-2019   HQIC                         10648.952\n",
       "                                         - 04-01-2021                                         \n",
       "Covariance Type:                                  opg                                         \n",
       "==============================================================================\n",
       "                 coef    std err          z      P>|z|      [0.025      0.975]\n",
       "------------------------------------------------------------------------------\n",
       "ar.L1          0.4178      0.062      6.779      0.000       0.297       0.539\n",
       "ar.L2          0.5295      0.048     11.036      0.000       0.435       0.624\n",
       "ma.L1          0.2775      0.066      4.196      0.000       0.148       0.407\n",
       "ma.L2         -0.4087      0.020    -19.983      0.000      -0.449      -0.369\n",
       "ma.L3         -0.4151      0.020    -21.157      0.000      -0.454      -0.377\n",
       "ma.S.L7       -0.0638      0.023     -2.833      0.005      -0.108      -0.020\n",
       "ma.S.L14      -0.0800      0.045     -1.779      0.075      -0.168       0.008\n",
       "sigma2      2.382e+04    265.407     89.766      0.000    2.33e+04    2.43e+04\n",
       "===================================================================================\n",
       "Ljung-Box (L1) (Q):                   0.02   Jarque-Bera (JB):            724373.06\n",
       "Prob(Q):                              0.89   Prob(JB):                         0.00\n",
       "Heteroskedasticity (H):              18.85   Skew:                             9.07\n",
       "Prob(H) (two-sided):                  0.00   Kurtosis:                       147.29\n",
       "===================================================================================\n",
       "\n",
       "Warnings:\n",
       "[1] Covariance matrix calculated using the outer product of gradients (complex-step).\n",
       "\"\"\""
      ]
     },
     "execution_count": 20,
     "metadata": {},
     "output_type": "execute_result"
    }
   ],
   "source": [
    "model = SARIMAX(train['q'],order=(2,0,3),seasonal_order=(0,0,2,7),enforce_invertibility=False)\n",
    "results = model.fit()\n",
    "results.summary()"
   ]
  },
  {
   "cell_type": "code",
   "execution_count": 21,
   "id": "35d402df",
   "metadata": {},
   "outputs": [
    {
     "data": {
      "text/html": [
       "<table class=\"simpletable\">\n",
       "<caption>SARIMAX Results</caption>\n",
       "<tr>\n",
       "  <th>Dep. Variable:</th>                  <td>q</td>                <th>  No. Observations:  </th>    <td>822</td>   \n",
       "</tr>\n",
       "<tr>\n",
       "  <th>Model:</th>           <td>SARIMAX(2, 0, 3)x(0, 0, [1], 7)</td> <th>  Log Likelihood     </th> <td>-5311.983</td>\n",
       "</tr>\n",
       "<tr>\n",
       "  <th>Date:</th>                   <td>Fri, 12 Aug 2022</td>         <th>  AIC                </th> <td>10637.966</td>\n",
       "</tr>\n",
       "<tr>\n",
       "  <th>Time:</th>                       <td>10:30:52</td>             <th>  BIC                </th> <td>10670.948</td>\n",
       "</tr>\n",
       "<tr>\n",
       "  <th>Sample:</th>                    <td>01-01-2019</td>            <th>  HQIC               </th> <td>10650.620</td>\n",
       "</tr>\n",
       "<tr>\n",
       "  <th></th>                          <td>- 04-01-2021</td>           <th>                     </th>     <td> </td>    \n",
       "</tr>\n",
       "<tr>\n",
       "  <th>Covariance Type:</th>               <td>opg</td>               <th>                     </th>     <td> </td>    \n",
       "</tr>\n",
       "</table>\n",
       "<table class=\"simpletable\">\n",
       "<tr>\n",
       "     <td></td>        <th>coef</th>     <th>std err</th>      <th>z</th>      <th>P>|z|</th>  <th>[0.025</th>    <th>0.975]</th>  \n",
       "</tr>\n",
       "<tr>\n",
       "  <th>ar.L1</th>   <td>    0.4098</td> <td>    0.068</td> <td>    6.005</td> <td> 0.000</td> <td>    0.276</td> <td>    0.544</td>\n",
       "</tr>\n",
       "<tr>\n",
       "  <th>ar.L2</th>   <td>    0.5201</td> <td>    0.049</td> <td>   10.609</td> <td> 0.000</td> <td>    0.424</td> <td>    0.616</td>\n",
       "</tr>\n",
       "<tr>\n",
       "  <th>ma.L1</th>   <td>    0.2925</td> <td>    0.072</td> <td>    4.053</td> <td> 0.000</td> <td>    0.151</td> <td>    0.434</td>\n",
       "</tr>\n",
       "<tr>\n",
       "  <th>ma.L2</th>   <td>   -0.3864</td> <td>    0.022</td> <td>  -17.938</td> <td> 0.000</td> <td>   -0.429</td> <td>   -0.344</td>\n",
       "</tr>\n",
       "<tr>\n",
       "  <th>ma.L3</th>   <td>   -0.4045</td> <td>    0.018</td> <td>  -22.138</td> <td> 0.000</td> <td>   -0.440</td> <td>   -0.369</td>\n",
       "</tr>\n",
       "<tr>\n",
       "  <th>ma.S.L7</th> <td>   -0.0557</td> <td>    0.025</td> <td>   -2.234</td> <td> 0.026</td> <td>   -0.105</td> <td>   -0.007</td>\n",
       "</tr>\n",
       "<tr>\n",
       "  <th>sigma2</th>  <td> 2.399e+04</td> <td>  214.289</td> <td>  111.941</td> <td> 0.000</td> <td> 2.36e+04</td> <td> 2.44e+04</td>\n",
       "</tr>\n",
       "</table>\n",
       "<table class=\"simpletable\">\n",
       "<tr>\n",
       "  <th>Ljung-Box (L1) (Q):</th>     <td>0.02</td>  <th>  Jarque-Bera (JB):  </th> <td>738424.93</td>\n",
       "</tr>\n",
       "<tr>\n",
       "  <th>Prob(Q):</th>                <td>0.89</td>  <th>  Prob(JB):          </th>   <td>0.00</td>   \n",
       "</tr>\n",
       "<tr>\n",
       "  <th>Heteroskedasticity (H):</th> <td>19.00</td> <th>  Skew:              </th>   <td>9.11</td>   \n",
       "</tr>\n",
       "<tr>\n",
       "  <th>Prob(H) (two-sided):</th>    <td>0.00</td>  <th>  Kurtosis:          </th>  <td>148.70</td>  \n",
       "</tr>\n",
       "</table><br/><br/>Warnings:<br/>[1] Covariance matrix calculated using the outer product of gradients (complex-step)."
      ],
      "text/plain": [
       "<class 'statsmodels.iolib.summary.Summary'>\n",
       "\"\"\"\n",
       "                                      SARIMAX Results                                      \n",
       "===========================================================================================\n",
       "Dep. Variable:                                   q   No. Observations:                  822\n",
       "Model:             SARIMAX(2, 0, 3)x(0, 0, [1], 7)   Log Likelihood               -5311.983\n",
       "Date:                             Fri, 12 Aug 2022   AIC                          10637.966\n",
       "Time:                                     10:30:52   BIC                          10670.948\n",
       "Sample:                                 01-01-2019   HQIC                         10650.620\n",
       "                                      - 04-01-2021                                         \n",
       "Covariance Type:                               opg                                         \n",
       "==============================================================================\n",
       "                 coef    std err          z      P>|z|      [0.025      0.975]\n",
       "------------------------------------------------------------------------------\n",
       "ar.L1          0.4098      0.068      6.005      0.000       0.276       0.544\n",
       "ar.L2          0.5201      0.049     10.609      0.000       0.424       0.616\n",
       "ma.L1          0.2925      0.072      4.053      0.000       0.151       0.434\n",
       "ma.L2         -0.3864      0.022    -17.938      0.000      -0.429      -0.344\n",
       "ma.L3         -0.4045      0.018    -22.138      0.000      -0.440      -0.369\n",
       "ma.S.L7       -0.0557      0.025     -2.234      0.026      -0.105      -0.007\n",
       "sigma2      2.399e+04    214.289    111.941      0.000    2.36e+04    2.44e+04\n",
       "===================================================================================\n",
       "Ljung-Box (L1) (Q):                   0.02   Jarque-Bera (JB):            738424.93\n",
       "Prob(Q):                              0.89   Prob(JB):                         0.00\n",
       "Heteroskedasticity (H):              19.00   Skew:                             9.11\n",
       "Prob(H) (two-sided):                  0.00   Kurtosis:                       148.70\n",
       "===================================================================================\n",
       "\n",
       "Warnings:\n",
       "[1] Covariance matrix calculated using the outer product of gradients (complex-step).\n",
       "\"\"\""
      ]
     },
     "execution_count": 21,
     "metadata": {},
     "output_type": "execute_result"
    }
   ],
   "source": [
    "model2 = SARIMAX(train['q'],order=(2,0,3),seasonal_order=(0,0,1,7),enforce_invertibility=False)\n",
    "results2 = model2.fit()\n",
    "results2.summary()"
   ]
  },
  {
   "cell_type": "code",
   "execution_count": 22,
   "id": "121f7be0",
   "metadata": {},
   "outputs": [],
   "source": [
    "start=len(train)\n",
    "end=len(train)+len(test)-1\n",
    "predictions = results.predict(start=start, end=end, dynamic=False).rename('SARIMA(2,0,3)(0,0,[1,2],7) Predictions')"
   ]
  },
  {
   "cell_type": "code",
   "execution_count": 23,
   "id": "ca631c25",
   "metadata": {},
   "outputs": [],
   "source": [
    "start=len(train)\n",
    "end=len(train)+len(test)-1\n",
    "predictions2 = results.predict(start=start, end=end, dynamic=True).rename('SARIMA(2,0,3)(0,0,[1,2],7) Predictions')"
   ]
  },
  {
   "cell_type": "code",
   "execution_count": 25,
   "id": "c5396e2e",
   "metadata": {},
   "outputs": [
    {
     "data": {
      "text/plain": [
       "[Text(0, 0.5, 'Visitors per day'), Text(0.5, 0, '')]"
      ]
     },
     "execution_count": 25,
     "metadata": {},
     "output_type": "execute_result"
    },
    {
     "data": {
      "image/png": "[encoded data removed]",
      "text/plain": [
       "<Figure size 864x432 with 1 Axes>"
      ]
     },
     "metadata": {
      "needs_background": "light"
     },
     "output_type": "display_data"
    }
   ],
   "source": [
    "title='Restaurant Visitors'\n",
    "ylabel='Visitors per day'\n",
    "xlabel=''\n",
    "\n",
    "ax = test['q'].plot(legend=True,figsize=(12,6),title=title)\n",
    "predictions.plot(legend=True)\n",
    "ax.autoscale(axis='x',tight=True)\n",
    "ax.set(xlabel=xlabel, ylabel=ylabel)"
   ]
  },
  {
   "cell_type": "code",
   "execution_count": 28,
   "id": "16fb76f6",
   "metadata": {},
   "outputs": [
    {
     "data": {
      "text/plain": [
       "<matplotlib.axes._subplots.AxesSubplot at 0x18d06a6ef98>"
      ]
     },
     "execution_count": 28,
     "metadata": {},
     "output_type": "execute_result"
    },
    {
     "data": {
      "image/png": "[encoded data removed]",
      "text/plain": [
       "<Figure size 864x432 with 1 Axes>"
      ]
     },
     "metadata": {
      "needs_background": "light"
     },
     "output_type": "display_data"
    }
   ],
   "source": [
    "ax = test['q'].plot(legend=True,figsize=(12,6),title=title)\n",
    "predictions.plot(legend=True)"
   ]
  },
  {
   "cell_type": "code",
   "execution_count": 30,
   "id": "a32a04d7",
   "metadata": {},
   "outputs": [
    {
     "name": "stdout",
     "output_type": "stream",
     "text": [
      "SARIMA(2,0,3)(0,0,2,7) MSE Error: 6203.648901\n",
      "SARIMA(2,0,3)(0,0,2,7) RMSE Error: 78.76324588\n"
     ]
    }
   ],
   "source": [
    "from statsmodels.tools.eval_measures import mse,rmse\n",
    "\n",
    "error1 = mse(test['q'], predictions)\n",
    "error2 = rmse(test['q'], predictions)\n",
    "\n",
    "print(f'SARIMA(2,0,3)(0,0,2,7) MSE Error: {error1:11.10}')\n",
    "print(f'SARIMA(2,0,3)(0,0,2,7) RMSE Error: {error2:11.10}')"
   ]
  },
  {
   "cell_type": "code",
   "execution_count": 36,
   "id": "c4fa416e",
   "metadata": {},
   "outputs": [
    {
     "data": {
      "text/html": [
       "<table class=\"simpletable\">\n",
       "<caption>SARIMAX Results</caption>\n",
       "<tr>\n",
       "  <th>Dep. Variable:</th>                    <td>q</td>                 <th>  No. Observations:  </th>    <td>822</td>   \n",
       "</tr>\n",
       "<tr>\n",
       "  <th>Model:</th>           <td>SARIMAX(2, 0, 3)x(0, 0, [1, 2], 7)</td> <th>  Log Likelihood     </th> <td>-5215.826</td>\n",
       "</tr>\n",
       "<tr>\n",
       "  <th>Date:</th>                     <td>Fri, 12 Aug 2022</td>          <th>  AIC                </th> <td>10449.651</td>\n",
       "</tr>\n",
       "<tr>\n",
       "  <th>Time:</th>                         <td>10:42:43</td>              <th>  BIC                </th> <td>10492.057</td>\n",
       "</tr>\n",
       "<tr>\n",
       "  <th>Sample:</th>                      <td>01-01-2019</td>             <th>  HQIC               </th> <td>10465.920</td>\n",
       "</tr>\n",
       "<tr>\n",
       "  <th></th>                            <td>- 04-01-2021</td>            <th>                     </th>     <td> </td>    \n",
       "</tr>\n",
       "<tr>\n",
       "  <th>Covariance Type:</th>                 <td>opg</td>                <th>                     </th>     <td> </td>    \n",
       "</tr>\n",
       "</table>\n",
       "<table class=\"simpletable\">\n",
       "<tr>\n",
       "      <td></td>        <th>coef</th>     <th>std err</th>      <th>z</th>      <th>P>|z|</th>  <th>[0.025</th>    <th>0.975]</th>  \n",
       "</tr>\n",
       "<tr>\n",
       "  <th>prec</th>     <td>    7.8329</td> <td>    0.229</td> <td>   34.261</td> <td> 0.000</td> <td>    7.385</td> <td>    8.281</td>\n",
       "</tr>\n",
       "<tr>\n",
       "  <th>ar.L1</th>    <td>    0.4751</td> <td>    0.123</td> <td>    3.869</td> <td> 0.000</td> <td>    0.234</td> <td>    0.716</td>\n",
       "</tr>\n",
       "<tr>\n",
       "  <th>ar.L2</th>    <td>    0.4587</td> <td>    0.108</td> <td>    4.259</td> <td> 0.000</td> <td>    0.248</td> <td>    0.670</td>\n",
       "</tr>\n",
       "<tr>\n",
       "  <th>ma.L1</th>    <td>    0.0120</td> <td>    0.122</td> <td>    0.098</td> <td> 0.922</td> <td>   -0.227</td> <td>    0.251</td>\n",
       "</tr>\n",
       "<tr>\n",
       "  <th>ma.L2</th>    <td>   -0.4188</td> <td>    0.055</td> <td>   -7.591</td> <td> 0.000</td> <td>   -0.527</td> <td>   -0.311</td>\n",
       "</tr>\n",
       "<tr>\n",
       "  <th>ma.L3</th>    <td>   -0.2489</td> <td>    0.033</td> <td>   -7.470</td> <td> 0.000</td> <td>   -0.314</td> <td>   -0.184</td>\n",
       "</tr>\n",
       "<tr>\n",
       "  <th>ma.S.L7</th>  <td>   -0.0233</td> <td>    0.054</td> <td>   -0.429</td> <td> 0.668</td> <td>   -0.130</td> <td>    0.083</td>\n",
       "</tr>\n",
       "<tr>\n",
       "  <th>ma.S.L14</th> <td>   -0.0771</td> <td>    0.049</td> <td>   -1.561</td> <td> 0.119</td> <td>   -0.174</td> <td>    0.020</td>\n",
       "</tr>\n",
       "<tr>\n",
       "  <th>sigma2</th>   <td> 2.032e+04</td> <td>  305.757</td> <td>   66.446</td> <td> 0.000</td> <td> 1.97e+04</td> <td> 2.09e+04</td>\n",
       "</tr>\n",
       "</table>\n",
       "<table class=\"simpletable\">\n",
       "<tr>\n",
       "  <th>Ljung-Box (L1) (Q):</th>     <td>0.00</td> <th>  Jarque-Bera (JB):  </th> <td>559154.97</td>\n",
       "</tr>\n",
       "<tr>\n",
       "  <th>Prob(Q):</th>                <td>0.98</td> <th>  Prob(JB):          </th>   <td>0.00</td>   \n",
       "</tr>\n",
       "<tr>\n",
       "  <th>Heteroskedasticity (H):</th> <td>7.57</td> <th>  Skew:              </th>   <td>8.96</td>   \n",
       "</tr>\n",
       "<tr>\n",
       "  <th>Prob(H) (two-sided):</th>    <td>0.00</td> <th>  Kurtosis:          </th>  <td>129.51</td>  \n",
       "</tr>\n",
       "</table><br/><br/>Warnings:<br/>[1] Covariance matrix calculated using the outer product of gradients (complex-step)."
      ],
      "text/plain": [
       "<class 'statsmodels.iolib.summary.Summary'>\n",
       "\"\"\"\n",
       "                                       SARIMAX Results                                        \n",
       "==============================================================================================\n",
       "Dep. Variable:                                      q   No. Observations:                  822\n",
       "Model:             SARIMAX(2, 0, 3)x(0, 0, [1, 2], 7)   Log Likelihood               -5215.826\n",
       "Date:                                Fri, 12 Aug 2022   AIC                          10449.651\n",
       "Time:                                        10:42:43   BIC                          10492.057\n",
       "Sample:                                    01-01-2019   HQIC                         10465.920\n",
       "                                         - 04-01-2021                                         \n",
       "Covariance Type:                                  opg                                         \n",
       "==============================================================================\n",
       "                 coef    std err          z      P>|z|      [0.025      0.975]\n",
       "------------------------------------------------------------------------------\n",
       "prec           7.8329      0.229     34.261      0.000       7.385       8.281\n",
       "ar.L1          0.4751      0.123      3.869      0.000       0.234       0.716\n",
       "ar.L2          0.4587      0.108      4.259      0.000       0.248       0.670\n",
       "ma.L1          0.0120      0.122      0.098      0.922      -0.227       0.251\n",
       "ma.L2         -0.4188      0.055     -7.591      0.000      -0.527      -0.311\n",
       "ma.L3         -0.2489      0.033     -7.470      0.000      -0.314      -0.184\n",
       "ma.S.L7       -0.0233      0.054     -0.429      0.668      -0.130       0.083\n",
       "ma.S.L14      -0.0771      0.049     -1.561      0.119      -0.174       0.020\n",
       "sigma2      2.032e+04    305.757     66.446      0.000    1.97e+04    2.09e+04\n",
       "===================================================================================\n",
       "Ljung-Box (L1) (Q):                   0.00   Jarque-Bera (JB):            559154.97\n",
       "Prob(Q):                              0.98   Prob(JB):                         0.00\n",
       "Heteroskedasticity (H):               7.57   Skew:                             8.96\n",
       "Prob(H) (two-sided):                  0.00   Kurtosis:                       129.51\n",
       "===================================================================================\n",
       "\n",
       "Warnings:\n",
       "[1] Covariance matrix calculated using the outer product of gradients (complex-step).\n",
       "\"\"\""
      ]
     },
     "execution_count": 36,
     "metadata": {},
     "output_type": "execute_result"
    }
   ],
   "source": [
    "model = SARIMAX(train['q'],exog=train2['prec'],order=(2,0,3),seasonal_order=(0,0,2,7),enforce_invertibility=False)\n",
    "results = model.fit()\n",
    "results.summary()"
   ]
  },
  {
   "cell_type": "code",
   "execution_count": 39,
   "id": "30255a24",
   "metadata": {},
   "outputs": [],
   "source": [
    "start=len(train)\n",
    "end=len(train)+len(test)-1\n",
    "exog_forecast = test2[['prec']]  # requires two brackets to yield a shape of (35,1)\n",
    "predictions = results.predict(start=start, end=end, exog=exog_forecast).rename('SARIMAX(2,0,3)(0,0,2,7) Predictions')"
   ]
  },
  {
   "cell_type": "code",
   "execution_count": 41,
   "id": "d8fe7816",
   "metadata": {},
   "outputs": [
    {
     "data": {
      "text/plain": [
       "[Text(0, 0.5, 'Visitors per day'), Text(0.5, 0, '')]"
      ]
     },
     "execution_count": 41,
     "metadata": {},
     "output_type": "execute_result"
    },
    {
     "data": {
      "image/png": "[encoded data removed]",
      "text/plain": [
       "<Figure size 864x432 with 1 Axes>"
      ]
     },
     "metadata": {
      "needs_background": "light"
     },
     "output_type": "display_data"
    }
   ],
   "source": [
    "title='Restaurant Visitors'\n",
    "ylabel='Visitors per day'\n",
    "xlabel=''\n",
    "\n",
    "ax = test['q'].plot(legend=True,figsize=(12,6),title=title)\n",
    "predictions.plot(legend=True)\n",
    "ax.autoscale(axis='x',tight=True)\n",
    "ax.set(xlabel=xlabel, ylabel=ylabel)"
   ]
  },
  {
   "cell_type": "code",
   "execution_count": 42,
   "id": "554dd835",
   "metadata": {},
   "outputs": [
    {
     "name": "stdout",
     "output_type": "stream",
     "text": [
      "SARIMA(2,0,3)(0,0,2,7) MSE Error: 6203.648901\n",
      "SARIMA(2,0,3)(0,0,2,7) RMSE Error: 78.76324588\n",
      "\n",
      "SARIMAX(2,0,3)(0,0,2,7) MSE Error: 6659.276962\n",
      "SARIMAX(2,0,3)(0,0,2,7) RMSE Error: 81.60439303\n"
     ]
    }
   ],
   "source": [
    "print(f'SARIMA(2,0,3)(0,0,2,7) MSE Error: {error1:11.10}')\n",
    "print(f'SARIMA(2,0,3)(0,0,2,7) RMSE Error: {error2:11.10}')\n",
    "print()\n",
    "\n",
    "error1x = mse(test['q'], predictions)\n",
    "error2x = rmse(test['q'], predictions)\n",
    "\n",
    "# Print new SARIMAX values\n",
    "print(f'SARIMAX(2,0,3)(0,0,2,7) MSE Error: {error1x:11.10}')\n",
    "print(f'SARIMAX(2,0,3)(0,0,2,7) RMSE Error: {error2x:11.10}')"
   ]
  },
  {
   "cell_type": "code",
   "execution_count": 84,
   "id": "3def5a69",
   "metadata": {},
   "outputs": [],
   "source": [
    "model = SARIMAX(df2['q'],exog=df1['prec'],order=(2,0,3),seasonal_order=(0,0,2,7),enforce_invertibility=False)\n",
    "results = model.fit()\n",
    "exog_forecast = df1[822:][['prec']]\n",
    "fcast = results.predict(len(train),len(train)+273,exog=exog_forecast).rename('SARIMAX(2,0,3)(0,0,2,7) Forecast')"
   ]
  },
  {
   "cell_type": "code",
   "execution_count": 85,
   "id": "edfaee99",
   "metadata": {},
   "outputs": [
    {
     "data": {
      "text/plain": [
       "2021-04-02     37.054619\n",
       "2021-04-03    309.960951\n",
       "2021-04-04    -69.489373\n",
       "2021-04-05    206.762977\n",
       "2021-04-06    163.221437\n",
       "                 ...    \n",
       "2021-12-27      5.090246\n",
       "2021-12-28      5.918526\n",
       "2021-12-29      9.170343\n",
       "2021-12-30      4.560333\n",
       "2021-12-31      6.907501\n",
       "Freq: D, Name: SARIMAX(2,0,3)(0,0,2,7) Forecast, Length: 274, dtype: float64"
      ]
     },
     "execution_count": 85,
     "metadata": {},
     "output_type": "execute_result"
    }
   ],
   "source": [
    "fcast"
   ]
  },
  {
   "cell_type": "code",
   "execution_count": 60,
   "id": "b8e7e540",
   "metadata": {},
   "outputs": [
    {
     "data": {
      "text/plain": [
       "date\n",
       "2021-04-02     38.120\n",
       "2021-04-03     78.457\n",
       "2021-04-04    389.262\n",
       "2021-04-05    242.339\n",
       "2021-04-06    145.385\n",
       "               ...   \n",
       "2021-12-27      6.911\n",
       "2021-12-28      6.943\n",
       "2021-12-29      6.961\n",
       "2021-12-30      6.997\n",
       "2021-12-31      7.022\n",
       "Name: q, Length: 274, dtype: float64"
      ]
     },
     "execution_count": 60,
     "metadata": {},
     "output_type": "execute_result"
    }
   ],
   "source": [
    "test['q']"
   ]
  },
  {
   "cell_type": "code",
   "execution_count": 87,
   "id": "67b8fa0a",
   "metadata": {},
   "outputs": [
    {
     "data": {
      "text/plain": [
       "[Text(17.200000000000017, 0.5, 'Visitors per day'),\n",
       " Text(0.5, 3.200000000000003, '')]"
      ]
     },
     "execution_count": 87,
     "metadata": {},
     "output_type": "execute_result"
    },
    {
     "data": {
      "image/png": "[encoded data removed]",
      "text/plain": [
       "<Figure size 432x288 with 1 Axes>"
      ]
     },
     "metadata": {
      "needs_background": "light"
     },
     "output_type": "display_data"
    }
   ],
   "source": [
    "ax = df1['total'].plot(legend=True,figsize=(16,6),title=title)\n",
    "fcast.plot(legend=True)\n",
    "ax.autoscale(axis='x',tight=True)"
   ]
  },
  {
   "cell_type": "code",
   "execution_count": 88,
   "id": "2f30a10d",
   "metadata": {},
   "outputs": [
    {
     "data": {
      "text/plain": [
       "<matplotlib.axes._subplots.AxesSubplot at 0x18d09d4c080>"
      ]
     },
     "execution_count": 88,
     "metadata": {},
     "output_type": "execute_result"
    },
    {
     "data": {
      "image/png": "[encoded data removed]",
      "text/plain": [
       "<Figure size 1152x432 with 1 Axes>"
      ]
     },
     "metadata": {
      "needs_background": "light"
     },
     "output_type": "display_data"
    }
   ],
   "source": [
    "test['q'].plot(legend=True,figsize=(16,6),title=title)"
   ]
  },
  {
   "cell_type": "code",
   "execution_count": 89,
   "id": "6d81fb64",
   "metadata": {},
   "outputs": [
    {
     "data": {
      "text/plain": [
       "[Text(17.200000000000017, 0.5, 'Visitors per day'),\n",
       " Text(0.5, 3.200000000000003, '')]"
      ]
     },
     "execution_count": 89,
     "metadata": {},
     "output_type": "execute_result"
    },
    {
     "data": {
      "image/png": "[encoded data removed]",
      "text/plain": [
       "<Figure size 1152x432 with 1 Axes>"
      ]
     },
     "metadata": {
      "needs_background": "light"
     },
     "output_type": "display_data"
    }
   ],
   "source": [
    "test['q'].plot(legend=True,figsize=(16,6),title=title)\n",
    "fcast.plot(legend=True)\n",
    "ax.set(xlabel=xlabel, ylabel=ylabel)"
   ]
  },
  {
   "cell_type": "code",
   "execution_count": null,
   "id": "f609568f",
   "metadata": {},
   "outputs": [],
   "source": []
  }
 ],
 "metadata": {
  "kernelspec": {
   "display_name": "Python 3 (ipykernel)",
   "language": "python",
   "name": "python3"
  },
  "language_info": {
   "codemirror_mode": {
    "name": "ipython",
    "version": 3
   },
   "file_extension": ".py",
   "mimetype": "text/x-python",
   "name": "python",
   "nbconvert_exporter": "python",
   "pygments_lexer": "ipython3",
   "version": "3.7.2"
  }
 },
 "nbformat": 4,
 "nbformat_minor": 5
}
