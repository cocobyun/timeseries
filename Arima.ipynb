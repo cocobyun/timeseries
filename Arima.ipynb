{
 "cells": [
  {
   "cell_type": "code",
   "execution_count": 10,
   "id": "7a0725c2",
   "metadata": {},
   "outputs": [],
   "source": [
    "import pandas as pd\n",
    "import numpy as np\n",
    "%matplotlib inline\n",
    "\n",
    "# Load specific forecasting tools\n",
    "from statsmodels.tsa.statespace.sarimax import SARIMAX\n",
    "\n",
    "from statsmodels.graphics.tsaplots import plot_acf,plot_pacf # for determining (p,q) orders\n",
    "from statsmodels.tsa.seasonal import seasonal_decompose      # for ETS Plots\n",
    "from pmdarima import auto_arima                              # for determining ARIMA orders\n",
    "\n",
    "\n",
    "# Load a non-stationary dataset\n",
    "df1 = pd.read_csv('tempandq.csv',index_col='date',parse_dates=True)\n",
    "df1.index.freq = 'D'"
   ]
  },
  {
   "cell_type": "code",
   "execution_count": 11,
   "id": "0788c1bc",
   "metadata": {},
   "outputs": [],
   "source": [
    "from pmdarima import auto_arima\n",
    "\n",
    "# Ignore harmless warnings\n",
    "import warnings\n",
    "warnings.filterwarnings(\"ignore\")"
   ]
  },
  {
   "cell_type": "code",
   "execution_count": 13,
   "id": "41ca1480",
   "metadata": {},
   "outputs": [
    {
     "data": {
      "text/html": [
       "<table class=\"simpletable\">\n",
       "<caption>Statespace Model Results</caption>\n",
       "<tr>\n",
       "  <th>Dep. Variable:</th>           <td>y</td>        <th>  No. Observations:  </th>    <td>5844</td>   \n",
       "</tr>\n",
       "<tr>\n",
       "  <th>Model:</th>           <td>SARIMAX(1, 0, 2)</td> <th>  Log Likelihood     </th> <td>-37775.806</td>\n",
       "</tr>\n",
       "<tr>\n",
       "  <th>Date:</th>            <td>Thu, 28 Jul 2022</td> <th>  AIC                </th>  <td>75561.611</td>\n",
       "</tr>\n",
       "<tr>\n",
       "  <th>Time:</th>                <td>17:01:14</td>     <th>  BIC                </th>  <td>75594.977</td>\n",
       "</tr>\n",
       "<tr>\n",
       "  <th>Sample:</th>                  <td>0</td>        <th>  HQIC               </th>  <td>75573.214</td>\n",
       "</tr>\n",
       "<tr>\n",
       "  <th></th>                      <td> - 5844</td>     <th>                     </th>      <td> </td>    \n",
       "</tr>\n",
       "<tr>\n",
       "  <th>Covariance Type:</th>        <td>opg</td>       <th>                     </th>      <td> </td>    \n",
       "</tr>\n",
       "</table>\n",
       "<table class=\"simpletable\">\n",
       "<tr>\n",
       "      <td></td>         <th>coef</th>     <th>std err</th>      <th>z</th>      <th>P>|z|</th>  <th>[0.025</th>    <th>0.975]</th>  \n",
       "</tr>\n",
       "<tr>\n",
       "  <th>intercept</th> <td>   11.2228</td> <td>    3.275</td> <td>    3.426</td> <td> 0.001</td> <td>    4.803</td> <td>   17.642</td>\n",
       "</tr>\n",
       "<tr>\n",
       "  <th>ar.L1</th>     <td>    0.8289</td> <td>    0.009</td> <td>   93.958</td> <td> 0.000</td> <td>    0.812</td> <td>    0.846</td>\n",
       "</tr>\n",
       "<tr>\n",
       "  <th>ma.L1</th>     <td>   -0.1134</td> <td>    0.009</td> <td>  -12.273</td> <td> 0.000</td> <td>   -0.131</td> <td>   -0.095</td>\n",
       "</tr>\n",
       "<tr>\n",
       "  <th>ma.L2</th>     <td>   -0.2319</td> <td>    0.008</td> <td>  -27.414</td> <td> 0.000</td> <td>   -0.248</td> <td>   -0.215</td>\n",
       "</tr>\n",
       "<tr>\n",
       "  <th>sigma2</th>    <td> 2.415e+04</td> <td>   82.302</td> <td>  293.459</td> <td> 0.000</td> <td>  2.4e+04</td> <td> 2.43e+04</td>\n",
       "</tr>\n",
       "</table>\n",
       "<table class=\"simpletable\">\n",
       "<tr>\n",
       "  <th>Ljung-Box (Q):</th>          <td>168.33</td> <th>  Jarque-Bera (JB):  </th> <td>10120424.40</td>\n",
       "</tr>\n",
       "<tr>\n",
       "  <th>Prob(Q):</th>                 <td>0.00</td>  <th>  Prob(JB):          </th>    <td>0.00</td>    \n",
       "</tr>\n",
       "<tr>\n",
       "  <th>Heteroskedasticity (H):</th>  <td>0.63</td>  <th>  Skew:              </th>    <td>11.39</td>   \n",
       "</tr>\n",
       "<tr>\n",
       "  <th>Prob(H) (two-sided):</th>     <td>0.00</td>  <th>  Kurtosis:          </th>   <td>205.59</td>   \n",
       "</tr>\n",
       "</table><br/><br/>Warnings:<br/>[1] Covariance matrix calculated using the outer product of gradients (complex-step)."
      ],
      "text/plain": [
       "<class 'statsmodels.iolib.summary.Summary'>\n",
       "\"\"\"\n",
       "                           Statespace Model Results                           \n",
       "==============================================================================\n",
       "Dep. Variable:                      y   No. Observations:                 5844\n",
       "Model:               SARIMAX(1, 0, 2)   Log Likelihood              -37775.806\n",
       "Date:                Thu, 28 Jul 2022   AIC                          75561.611\n",
       "Time:                        17:01:14   BIC                          75594.977\n",
       "Sample:                             0   HQIC                         75573.214\n",
       "                               - 5844                                         \n",
       "Covariance Type:                  opg                                         \n",
       "==============================================================================\n",
       "                 coef    std err          z      P>|z|      [0.025      0.975]\n",
       "------------------------------------------------------------------------------\n",
       "intercept     11.2228      3.275      3.426      0.001       4.803      17.642\n",
       "ar.L1          0.8289      0.009     93.958      0.000       0.812       0.846\n",
       "ma.L1         -0.1134      0.009    -12.273      0.000      -0.131      -0.095\n",
       "ma.L2         -0.2319      0.008    -27.414      0.000      -0.248      -0.215\n",
       "sigma2      2.415e+04     82.302    293.459      0.000     2.4e+04    2.43e+04\n",
       "===================================================================================\n",
       "Ljung-Box (Q):                      168.33   Jarque-Bera (JB):          10120424.40\n",
       "Prob(Q):                              0.00   Prob(JB):                         0.00\n",
       "Heteroskedasticity (H):               0.63   Skew:                            11.39\n",
       "Prob(H) (two-sided):                  0.00   Kurtosis:                       205.59\n",
       "===================================================================================\n",
       "\n",
       "Warnings:\n",
       "[1] Covariance matrix calculated using the outer product of gradients (complex-step).\n",
       "\"\"\""
      ]
     },
     "execution_count": 13,
     "metadata": {},
     "output_type": "execute_result"
    }
   ],
   "source": [
    "model = auto_arima(df1['q'])\n",
    "model.summary()"
   ]
  },
  {
   "cell_type": "code",
   "execution_count": 6,
   "id": "03bba8d3",
   "metadata": {
    "collapsed": true
   },
   "outputs": [
    {
     "data": {
      "image/png": "[encoded data removed]",
      "text/plain": [
       "<Figure size 864x360 with 1 Axes>"
      ]
     },
     "metadata": {
      "needs_background": "light"
     },
     "output_type": "display_data"
    }
   ],
   "source": [
    "df1['q'].plot(figsize=(12,5));"
   ]
  },
  {
   "cell_type": "code",
   "execution_count": 7,
   "id": "0a3dee95",
   "metadata": {},
   "outputs": [],
   "source": [
    "train = df1.iloc[:4383]\n",
    "test = df1.iloc[4383:]"
   ]
  },
  {
   "cell_type": "code",
   "execution_count": 11,
   "id": "51b0ae95",
   "metadata": {},
   "outputs": [],
   "source": [
    "# Load specific forecasting tools\n",
    "from statsmodels.tsa.arima_model import ARMA,ARMAResults,ARIMA,ARIMAResults\n",
    "from statsmodels.graphics.tsaplots import plot_acf,plot_pacf # for determining (p,q) orders\n",
    "from pmdarima import auto_arima # for determining ARIMA orders"
   ]
  },
  {
   "cell_type": "code",
   "execution_count": 12,
   "id": "d7122c2d",
   "metadata": {
    "collapsed": true
   },
   "outputs": [
    {
     "data": {
      "text/html": [
       "<table class=\"simpletable\">\n",
       "<caption>ARMA Model Results</caption>\n",
       "<tr>\n",
       "  <th>Dep. Variable:</th>         <td>q</td>        <th>  No. Observations:  </th>    <td>4383</td>   \n",
       "</tr>\n",
       "<tr>\n",
       "  <th>Model:</th>            <td>ARMA(1, 2)</td>    <th>  Log Likelihood     </th> <td>-28412.046</td>\n",
       "</tr>\n",
       "<tr>\n",
       "  <th>Method:</th>             <td>css-mle</td>     <th>  S.D. of innovations</th>   <td>158.112</td> \n",
       "</tr>\n",
       "<tr>\n",
       "  <th>Date:</th>          <td>Thu, 28 Jul 2022</td> <th>  AIC                </th>  <td>56834.092</td>\n",
       "</tr>\n",
       "<tr>\n",
       "  <th>Time:</th>              <td>13:02:57</td>     <th>  BIC                </th>  <td>56866.020</td>\n",
       "</tr>\n",
       "<tr>\n",
       "  <th>Sample:</th>           <td>01-01-2006</td>    <th>  HQIC               </th>  <td>56845.357</td>\n",
       "</tr>\n",
       "<tr>\n",
       "  <th></th>                 <td>- 12-31-2017</td>   <th>                     </th>      <td> </td>    \n",
       "</tr>\n",
       "</table>\n",
       "<table class=\"simpletable\">\n",
       "<tr>\n",
       "     <td></td>        <th>coef</th>     <th>std err</th>      <th>z</th>      <th>P>|z|</th>  <th>[0.025</th>    <th>0.975]</th>  \n",
       "</tr>\n",
       "<tr>\n",
       "  <th>const</th>   <td>   66.1172</td> <td>    9.454</td> <td>    6.994</td> <td> 0.000</td> <td>   47.588</td> <td>   84.647</td>\n",
       "</tr>\n",
       "<tr>\n",
       "  <th>ar.L1.q</th> <td>    0.8380</td> <td>    0.018</td> <td>   47.159</td> <td> 0.000</td> <td>    0.803</td> <td>    0.873</td>\n",
       "</tr>\n",
       "<tr>\n",
       "  <th>ma.L1.q</th> <td>   -0.0801</td> <td>    0.025</td> <td>   -3.234</td> <td> 0.001</td> <td>   -0.129</td> <td>   -0.032</td>\n",
       "</tr>\n",
       "<tr>\n",
       "  <th>ma.L2.q</th> <td>   -0.2780</td> <td>    0.024</td> <td>  -11.710</td> <td> 0.000</td> <td>   -0.324</td> <td>   -0.231</td>\n",
       "</tr>\n",
       "</table>\n",
       "<table class=\"simpletable\">\n",
       "<caption>Roots</caption>\n",
       "<tr>\n",
       "    <td></td>   <th>            Real</th>  <th>         Imaginary</th> <th>         Modulus</th>  <th>        Frequency</th>\n",
       "</tr>\n",
       "<tr>\n",
       "  <th>AR.1</th> <td>           1.1933</td> <td>          +0.0000j</td> <td>           1.1933</td> <td>           0.0000</td>\n",
       "</tr>\n",
       "<tr>\n",
       "  <th>MA.1</th> <td>           1.7582</td> <td>          +0.0000j</td> <td>           1.7582</td> <td>           0.0000</td>\n",
       "</tr>\n",
       "<tr>\n",
       "  <th>MA.2</th> <td>          -2.0463</td> <td>          +0.0000j</td> <td>           2.0463</td> <td>           0.5000</td>\n",
       "</tr>\n",
       "</table>"
      ],
      "text/plain": [
       "<class 'statsmodels.iolib.summary.Summary'>\n",
       "\"\"\"\n",
       "                              ARMA Model Results                              \n",
       "==============================================================================\n",
       "Dep. Variable:                      q   No. Observations:                 4383\n",
       "Model:                     ARMA(1, 2)   Log Likelihood              -28412.046\n",
       "Method:                       css-mle   S.D. of innovations            158.112\n",
       "Date:                Thu, 28 Jul 2022   AIC                          56834.092\n",
       "Time:                        13:02:57   BIC                          56866.020\n",
       "Sample:                    01-01-2006   HQIC                         56845.357\n",
       "                         - 12-31-2017                                         \n",
       "==============================================================================\n",
       "                 coef    std err          z      P>|z|      [0.025      0.975]\n",
       "------------------------------------------------------------------------------\n",
       "const         66.1172      9.454      6.994      0.000      47.588      84.647\n",
       "ar.L1.q        0.8380      0.018     47.159      0.000       0.803       0.873\n",
       "ma.L1.q       -0.0801      0.025     -3.234      0.001      -0.129      -0.032\n",
       "ma.L2.q       -0.2780      0.024    -11.710      0.000      -0.324      -0.231\n",
       "                                    Roots                                    \n",
       "=============================================================================\n",
       "                  Real          Imaginary           Modulus         Frequency\n",
       "-----------------------------------------------------------------------------\n",
       "AR.1            1.1933           +0.0000j            1.1933            0.0000\n",
       "MA.1            1.7582           +0.0000j            1.7582            0.0000\n",
       "MA.2           -2.0463           +0.0000j            2.0463            0.5000\n",
       "-----------------------------------------------------------------------------\n",
       "\"\"\""
      ]
     },
     "execution_count": 12,
     "metadata": {},
     "output_type": "execute_result"
    }
   ],
   "source": [
    "model = ARIMA(train['q'],order=(1,0,2))\n",
    "results = model.fit()\n",
    "results.summary()"
   ]
  },
  {
   "cell_type": "code",
   "execution_count": 13,
   "id": "e02f0773",
   "metadata": {},
   "outputs": [],
   "source": [
    "start=len(train)\n",
    "end=len(train)+len(test)-1\n",
    "predictions = results.predict(start=start, end=end).rename('Predictions')"
   ]
  },
  {
   "cell_type": "code",
   "execution_count": 14,
   "id": "dd8479d5",
   "metadata": {},
   "outputs": [
    {
     "data": {
      "image/png": "[encoded data removed]",
      "text/plain": [
       "<Figure size 864x432 with 1 Axes>"
      ]
     },
     "metadata": {
      "needs_background": "light"
     },
     "output_type": "display_data"
    }
   ],
   "source": [
    "title = 'Daily Total q'\n",
    "ylabel='q'\n",
    "xlabel='' # we don't really need a label here\n",
    "\n",
    "ax = test['q'].plot(legend=True,figsize=(12,6),title=title)\n",
    "predictions.plot(legend=True)\n",
    "ax.autoscale(axis='x',tight=True)\n",
    "ax.set(xlabel=xlabel, ylabel=ylabel);"
   ]
  },
  {
   "cell_type": "code",
   "execution_count": 15,
   "id": "5c6a604f",
   "metadata": {},
   "outputs": [],
   "source": [
    "from statsmodels.tsa.stattools import adfuller\n",
    "\n",
    "def adf_test(series,title=''):\n",
    "    \"\"\"\n",
    "    Pass in a time series and an optional title, returns an ADF report\n",
    "    \"\"\"\n",
    "    print(f'Augmented Dickey-Fuller Test: {title}')\n",
    "    result = adfuller(series.dropna(),autolag='AIC') # .dropna() handles differenced data\n",
    "    \n",
    "    labels = ['ADF test statistic','p-value','# lags used','# observations']\n",
    "    out = pd.Series(result[0:4],index=labels)\n",
    "\n",
    "    for key,val in result[4].items():\n",
    "        out[f'critical value ({key})']=val\n",
    "        \n",
    "    print(out.to_string())          # .to_string() removes the line \"dtype: float64\"\n",
    "    \n",
    "    if result[1] <= 0.05:\n",
    "        print(\"Strong evidence against the null hypothesis\")\n",
    "        print(\"Reject the null hypothesis\")\n",
    "        print(\"Data has no unit root and is stationary\")\n",
    "    else:\n",
    "        print(\"Weak evidence against the null hypothesis\")\n",
    "        print(\"Fail to reject the null hypothesis\")\n",
    "        print(\"Data has a unit root and is non-stationary\")"
   ]
  },
  {
   "cell_type": "code",
   "execution_count": 16,
   "id": "bf544257",
   "metadata": {
    "scrolled": true
   },
   "outputs": [
    {
     "name": "stdout",
     "output_type": "stream",
     "text": [
      "Augmented Dickey-Fuller Test: \n",
      "ADF test statistic     -9.554311e+00\n",
      "p-value                 2.522818e-16\n",
      "# lags used             3.300000e+01\n",
      "# observations          5.810000e+03\n",
      "critical value (1%)    -3.431476e+00\n",
      "critical value (5%)    -2.862038e+00\n",
      "critical value (10%)   -2.567035e+00\n",
      "Strong evidence against the null hypothesis\n",
      "Reject the null hypothesis\n",
      "Data has no unit root and is stationary\n"
     ]
    }
   ],
   "source": [
    "adf_test(df1['q'])"
   ]
  },
  {
   "cell_type": "code",
   "execution_count": null,
   "id": "ed7c7a24",
   "metadata": {},
   "outputs": [],
   "source": []
  }
 ],
 "metadata": {
  "kernelspec": {
   "display_name": "Python 3 (ipykernel)",
   "language": "python",
   "name": "python3"
  },
  "language_info": {
   "codemirror_mode": {
    "name": "ipython",
    "version": 3
   },
   "file_extension": ".py",
   "mimetype": "text/x-python",
   "name": "python",
   "nbconvert_exporter": "python",
   "pygments_lexer": "ipython3",
   "version": "3.7.2"
  }
 },
 "nbformat": 4,
 "nbformat_minor": 5
}
