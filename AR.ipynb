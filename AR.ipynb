{
 "cells": [
  {
   "cell_type": "code",
   "execution_count": 1,
   "id": "1b0b3901",
   "metadata": {},
   "outputs": [],
   "source": [
    "import pandas as pd\n",
    "import numpy as np\n",
    "%matplotlib inline\n",
    "\n",
    "from statsmodels.tsa.ar_model import AR,ARResults\n",
    "\n",
    "df = pd.read_csv('tempandq.csv',index_col='date',parse_dates=True)\n",
    "df.index.freq = 'D'"
   ]
  },
  {
   "cell_type": "code",
   "execution_count": 2,
   "id": "b71fe108",
   "metadata": {
    "scrolled": true
   },
   "outputs": [
    {
     "data": {
      "image/png": "[encoded data removed]",
      "text/plain": [
       "<Figure size 864x360 with 1 Axes>"
      ]
     },
     "metadata": {
      "needs_background": "light"
     },
     "output_type": "display_data"
    }
   ],
   "source": [
    "title='Soyang Flow'\n",
    "ylabel='q (m3/s)'\n",
    "xlabel='' # we don't really need a label here\n",
    "\n",
    "ax = df['q'].plot(figsize=(12,5),title=title);\n",
    "ax.autoscale(axis='x',tight=True)\n",
    "ax.set(xlabel=xlabel, ylabel=ylabel);"
   ]
  },
  {
   "cell_type": "code",
   "execution_count": 3,
   "id": "e1910f4a",
   "metadata": {},
   "outputs": [
    {
     "data": {
      "text/plain": [
       "5844"
      ]
     },
     "execution_count": 3,
     "metadata": {},
     "output_type": "execute_result"
    }
   ],
   "source": [
    "len(df)"
   ]
  },
  {
   "cell_type": "code",
   "execution_count": 4,
   "id": "a7f881a2",
   "metadata": {},
   "outputs": [],
   "source": [
    "train = df.iloc[:4383] #2006-2017 -0.75*5844\n",
    "test = df.iloc[4383:] #2018-2021"
   ]
  },
  {
   "cell_type": "code",
   "execution_count": 6,
   "id": "26f62f63",
   "metadata": {
    "collapsed": true
   },
   "outputs": [
    {
     "data": {
      "text/html": [
       "<div>\n",
       "<style scoped>\n",
       "    .dataframe tbody tr th:only-of-type {\n",
       "        vertical-align: middle;\n",
       "    }\n",
       "\n",
       "    .dataframe tbody tr th {\n",
       "        vertical-align: top;\n",
       "    }\n",
       "\n",
       "    .dataframe thead th {\n",
       "        text-align: right;\n",
       "    }\n",
       "</style>\n",
       "<table border=\"1\" class=\"dataframe\">\n",
       "  <thead>\n",
       "    <tr style=\"text-align: right;\">\n",
       "      <th></th>\n",
       "      <th>temp</th>\n",
       "      <th>q</th>\n",
       "    </tr>\n",
       "    <tr>\n",
       "      <th>date</th>\n",
       "      <th></th>\n",
       "      <th></th>\n",
       "    </tr>\n",
       "  </thead>\n",
       "  <tbody>\n",
       "    <tr>\n",
       "      <th>2018-01-01</th>\n",
       "      <td>-5.9</td>\n",
       "      <td>2.703</td>\n",
       "    </tr>\n",
       "    <tr>\n",
       "      <th>2018-01-02</th>\n",
       "      <td>-4.2</td>\n",
       "      <td>2.793</td>\n",
       "    </tr>\n",
       "    <tr>\n",
       "      <th>2018-01-03</th>\n",
       "      <td>-7.5</td>\n",
       "      <td>2.894</td>\n",
       "    </tr>\n",
       "    <tr>\n",
       "      <th>2018-01-04</th>\n",
       "      <td>-6.4</td>\n",
       "      <td>0.000</td>\n",
       "    </tr>\n",
       "    <tr>\n",
       "      <th>2018-01-05</th>\n",
       "      <td>-4.5</td>\n",
       "      <td>0.000</td>\n",
       "    </tr>\n",
       "    <tr>\n",
       "      <th>2018-01-06</th>\n",
       "      <td>-6.8</td>\n",
       "      <td>8.841</td>\n",
       "    </tr>\n",
       "    <tr>\n",
       "      <th>2018-01-07</th>\n",
       "      <td>-4.4</td>\n",
       "      <td>3.292</td>\n",
       "    </tr>\n",
       "    <tr>\n",
       "      <th>2018-01-08</th>\n",
       "      <td>0.4</td>\n",
       "      <td>0.000</td>\n",
       "    </tr>\n",
       "    <tr>\n",
       "      <th>2018-01-09</th>\n",
       "      <td>-4.9</td>\n",
       "      <td>3.462</td>\n",
       "    </tr>\n",
       "    <tr>\n",
       "      <th>2018-01-10</th>\n",
       "      <td>-9.2</td>\n",
       "      <td>0.000</td>\n",
       "    </tr>\n",
       "    <tr>\n",
       "      <th>2018-01-11</th>\n",
       "      <td>-12.1</td>\n",
       "      <td>3.635</td>\n",
       "    </tr>\n",
       "    <tr>\n",
       "      <th>2018-01-12</th>\n",
       "      <td>-13.3</td>\n",
       "      <td>0.000</td>\n",
       "    </tr>\n",
       "    <tr>\n",
       "      <th>2018-01-13</th>\n",
       "      <td>-8.5</td>\n",
       "      <td>0.000</td>\n",
       "    </tr>\n",
       "    <tr>\n",
       "      <th>2018-01-14</th>\n",
       "      <td>-2.9</td>\n",
       "      <td>3.983</td>\n",
       "    </tr>\n",
       "    <tr>\n",
       "      <th>2018-01-15</th>\n",
       "      <td>3.3</td>\n",
       "      <td>4.869</td>\n",
       "    </tr>\n",
       "    <tr>\n",
       "      <th>2018-01-16</th>\n",
       "      <td>1.0</td>\n",
       "      <td>0.000</td>\n",
       "    </tr>\n",
       "    <tr>\n",
       "      <th>2018-01-17</th>\n",
       "      <td>3.9</td>\n",
       "      <td>0.000</td>\n",
       "    </tr>\n",
       "    <tr>\n",
       "      <th>2018-01-18</th>\n",
       "      <td>1.5</td>\n",
       "      <td>10.707</td>\n",
       "    </tr>\n",
       "    <tr>\n",
       "      <th>2018-01-19</th>\n",
       "      <td>-2.1</td>\n",
       "      <td>5.348</td>\n",
       "    </tr>\n",
       "    <tr>\n",
       "      <th>2018-01-20</th>\n",
       "      <td>-1.6</td>\n",
       "      <td>0.003</td>\n",
       "    </tr>\n",
       "    <tr>\n",
       "      <th>2018-01-21</th>\n",
       "      <td>-2.9</td>\n",
       "      <td>5.558</td>\n",
       "    </tr>\n",
       "    <tr>\n",
       "      <th>2018-01-22</th>\n",
       "      <td>-1.0</td>\n",
       "      <td>0.213</td>\n",
       "    </tr>\n",
       "    <tr>\n",
       "      <th>2018-01-23</th>\n",
       "      <td>-11.4</td>\n",
       "      <td>0.378</td>\n",
       "    </tr>\n",
       "    <tr>\n",
       "      <th>2018-01-24</th>\n",
       "      <td>-15.4</td>\n",
       "      <td>5.898</td>\n",
       "    </tr>\n",
       "    <tr>\n",
       "      <th>2018-01-25</th>\n",
       "      <td>-15.6</td>\n",
       "      <td>0.000</td>\n",
       "    </tr>\n",
       "    <tr>\n",
       "      <th>2018-01-26</th>\n",
       "      <td>-16.3</td>\n",
       "      <td>0.780</td>\n",
       "    </tr>\n",
       "    <tr>\n",
       "      <th>2018-01-27</th>\n",
       "      <td>-12.1</td>\n",
       "      <td>6.282</td>\n",
       "    </tr>\n",
       "    <tr>\n",
       "      <th>2018-01-28</th>\n",
       "      <td>-6.4</td>\n",
       "      <td>0.000</td>\n",
       "    </tr>\n",
       "    <tr>\n",
       "      <th>2018-01-29</th>\n",
       "      <td>-9.7</td>\n",
       "      <td>6.557</td>\n",
       "    </tr>\n",
       "    <tr>\n",
       "      <th>2018-01-30</th>\n",
       "      <td>-8.2</td>\n",
       "      <td>0.000</td>\n",
       "    </tr>\n",
       "    <tr>\n",
       "      <th>...</th>\n",
       "      <td>...</td>\n",
       "      <td>...</td>\n",
       "    </tr>\n",
       "    <tr>\n",
       "      <th>2021-12-02</th>\n",
       "      <td>-0.7</td>\n",
       "      <td>24.386</td>\n",
       "    </tr>\n",
       "    <tr>\n",
       "      <th>2021-12-03</th>\n",
       "      <td>1.7</td>\n",
       "      <td>24.397</td>\n",
       "    </tr>\n",
       "    <tr>\n",
       "      <th>2021-12-04</th>\n",
       "      <td>-1.6</td>\n",
       "      <td>24.397</td>\n",
       "    </tr>\n",
       "    <tr>\n",
       "      <th>2021-12-05</th>\n",
       "      <td>-1.3</td>\n",
       "      <td>18.409</td>\n",
       "    </tr>\n",
       "    <tr>\n",
       "      <th>2021-12-06</th>\n",
       "      <td>0.5</td>\n",
       "      <td>18.378</td>\n",
       "    </tr>\n",
       "    <tr>\n",
       "      <th>2021-12-07</th>\n",
       "      <td>1.0</td>\n",
       "      <td>18.418</td>\n",
       "    </tr>\n",
       "    <tr>\n",
       "      <th>2021-12-08</th>\n",
       "      <td>1.5</td>\n",
       "      <td>24.431</td>\n",
       "    </tr>\n",
       "    <tr>\n",
       "      <th>2021-12-09</th>\n",
       "      <td>0.9</td>\n",
       "      <td>12.454</td>\n",
       "    </tr>\n",
       "    <tr>\n",
       "      <th>2021-12-10</th>\n",
       "      <td>3.0</td>\n",
       "      <td>12.487</td>\n",
       "    </tr>\n",
       "    <tr>\n",
       "      <th>2021-12-11</th>\n",
       "      <td>5.4</td>\n",
       "      <td>18.460</td>\n",
       "    </tr>\n",
       "    <tr>\n",
       "      <th>2021-12-12</th>\n",
       "      <td>2.1</td>\n",
       "      <td>12.505</td>\n",
       "    </tr>\n",
       "    <tr>\n",
       "      <th>2021-12-13</th>\n",
       "      <td>-3.5</td>\n",
       "      <td>12.524</td>\n",
       "    </tr>\n",
       "    <tr>\n",
       "      <th>2021-12-14</th>\n",
       "      <td>1.8</td>\n",
       "      <td>12.553</td>\n",
       "    </tr>\n",
       "    <tr>\n",
       "      <th>2021-12-15</th>\n",
       "      <td>4.2</td>\n",
       "      <td>12.560</td>\n",
       "    </tr>\n",
       "    <tr>\n",
       "      <th>2021-12-16</th>\n",
       "      <td>4.8</td>\n",
       "      <td>18.529</td>\n",
       "    </tr>\n",
       "    <tr>\n",
       "      <th>2021-12-17</th>\n",
       "      <td>-3.9</td>\n",
       "      <td>12.587</td>\n",
       "    </tr>\n",
       "    <tr>\n",
       "      <th>2021-12-18</th>\n",
       "      <td>-6.6</td>\n",
       "      <td>0.731</td>\n",
       "    </tr>\n",
       "    <tr>\n",
       "      <th>2021-12-19</th>\n",
       "      <td>-1.1</td>\n",
       "      <td>12.644</td>\n",
       "    </tr>\n",
       "    <tr>\n",
       "      <th>2021-12-20</th>\n",
       "      <td>4.3</td>\n",
       "      <td>12.657</td>\n",
       "    </tr>\n",
       "    <tr>\n",
       "      <th>2021-12-21</th>\n",
       "      <td>4.8</td>\n",
       "      <td>12.675</td>\n",
       "    </tr>\n",
       "    <tr>\n",
       "      <th>2021-12-22</th>\n",
       "      <td>-1.1</td>\n",
       "      <td>12.684</td>\n",
       "    </tr>\n",
       "    <tr>\n",
       "      <th>2021-12-23</th>\n",
       "      <td>-1.3</td>\n",
       "      <td>12.759</td>\n",
       "    </tr>\n",
       "    <tr>\n",
       "      <th>2021-12-24</th>\n",
       "      <td>0.0</td>\n",
       "      <td>0.968</td>\n",
       "    </tr>\n",
       "    <tr>\n",
       "      <th>2021-12-25</th>\n",
       "      <td>-8.2</td>\n",
       "      <td>12.751</td>\n",
       "    </tr>\n",
       "    <tr>\n",
       "      <th>2021-12-26</th>\n",
       "      <td>-12.7</td>\n",
       "      <td>0.980</td>\n",
       "    </tr>\n",
       "    <tr>\n",
       "      <th>2021-12-27</th>\n",
       "      <td>-9.7</td>\n",
       "      <td>6.911</td>\n",
       "    </tr>\n",
       "    <tr>\n",
       "      <th>2021-12-28</th>\n",
       "      <td>-4.2</td>\n",
       "      <td>6.943</td>\n",
       "    </tr>\n",
       "    <tr>\n",
       "      <th>2021-12-29</th>\n",
       "      <td>0.3</td>\n",
       "      <td>6.961</td>\n",
       "    </tr>\n",
       "    <tr>\n",
       "      <th>2021-12-30</th>\n",
       "      <td>-3.6</td>\n",
       "      <td>6.997</td>\n",
       "    </tr>\n",
       "    <tr>\n",
       "      <th>2021-12-31</th>\n",
       "      <td>-7.7</td>\n",
       "      <td>7.022</td>\n",
       "    </tr>\n",
       "  </tbody>\n",
       "</table>\n",
       "<p>1461 rows × 2 columns</p>\n",
       "</div>"
      ],
      "text/plain": [
       "            temp       q\n",
       "date                    \n",
       "2018-01-01  -5.9   2.703\n",
       "2018-01-02  -4.2   2.793\n",
       "2018-01-03  -7.5   2.894\n",
       "2018-01-04  -6.4   0.000\n",
       "2018-01-05  -4.5   0.000\n",
       "2018-01-06  -6.8   8.841\n",
       "2018-01-07  -4.4   3.292\n",
       "2018-01-08   0.4   0.000\n",
       "2018-01-09  -4.9   3.462\n",
       "2018-01-10  -9.2   0.000\n",
       "2018-01-11 -12.1   3.635\n",
       "2018-01-12 -13.3   0.000\n",
       "2018-01-13  -8.5   0.000\n",
       "2018-01-14  -2.9   3.983\n",
       "2018-01-15   3.3   4.869\n",
       "2018-01-16   1.0   0.000\n",
       "2018-01-17   3.9   0.000\n",
       "2018-01-18   1.5  10.707\n",
       "2018-01-19  -2.1   5.348\n",
       "2018-01-20  -1.6   0.003\n",
       "2018-01-21  -2.9   5.558\n",
       "2018-01-22  -1.0   0.213\n",
       "2018-01-23 -11.4   0.378\n",
       "2018-01-24 -15.4   5.898\n",
       "2018-01-25 -15.6   0.000\n",
       "2018-01-26 -16.3   0.780\n",
       "2018-01-27 -12.1   6.282\n",
       "2018-01-28  -6.4   0.000\n",
       "2018-01-29  -9.7   6.557\n",
       "2018-01-30  -8.2   0.000\n",
       "...          ...     ...\n",
       "2021-12-02  -0.7  24.386\n",
       "2021-12-03   1.7  24.397\n",
       "2021-12-04  -1.6  24.397\n",
       "2021-12-05  -1.3  18.409\n",
       "2021-12-06   0.5  18.378\n",
       "2021-12-07   1.0  18.418\n",
       "2021-12-08   1.5  24.431\n",
       "2021-12-09   0.9  12.454\n",
       "2021-12-10   3.0  12.487\n",
       "2021-12-11   5.4  18.460\n",
       "2021-12-12   2.1  12.505\n",
       "2021-12-13  -3.5  12.524\n",
       "2021-12-14   1.8  12.553\n",
       "2021-12-15   4.2  12.560\n",
       "2021-12-16   4.8  18.529\n",
       "2021-12-17  -3.9  12.587\n",
       "2021-12-18  -6.6   0.731\n",
       "2021-12-19  -1.1  12.644\n",
       "2021-12-20   4.3  12.657\n",
       "2021-12-21   4.8  12.675\n",
       "2021-12-22  -1.1  12.684\n",
       "2021-12-23  -1.3  12.759\n",
       "2021-12-24   0.0   0.968\n",
       "2021-12-25  -8.2  12.751\n",
       "2021-12-26 -12.7   0.980\n",
       "2021-12-27  -9.7   6.911\n",
       "2021-12-28  -4.2   6.943\n",
       "2021-12-29   0.3   6.961\n",
       "2021-12-30  -3.6   6.997\n",
       "2021-12-31  -7.7   7.022\n",
       "\n",
       "[1461 rows x 2 columns]"
      ]
     },
     "execution_count": 6,
     "metadata": {},
     "output_type": "execute_result"
    }
   ],
   "source": [
    "test"
   ]
  },
  {
   "cell_type": "code",
   "execution_count": 7,
   "id": "439af27c",
   "metadata": {},
   "outputs": [],
   "source": [
    "import warnings\n",
    "warnings.filterwarnings(\"ignore\")"
   ]
  },
  {
   "cell_type": "code",
   "execution_count": 18,
   "id": "2dd8d5e2",
   "metadata": {},
   "outputs": [
    {
     "name": "stdout",
     "output_type": "stream",
     "text": [
      "Lag: 28\n",
      "Coefficients:\n",
      "const    12.121149\n",
      "L1.q      0.739515\n",
      "L2.q     -0.193623\n",
      "L3.q      0.225285\n",
      "L4.q     -0.123418\n",
      "L5.q      0.100006\n",
      "L6.q     -0.073163\n",
      "L7.q      0.017171\n",
      "L8.q      0.012334\n",
      "L9.q      0.021965\n",
      "L10.q     0.017810\n",
      "L11.q    -0.019190\n",
      "L12.q     0.082743\n",
      "L13.q    -0.015778\n",
      "L14.q    -0.017824\n",
      "L15.q     0.025195\n",
      "L16.q    -0.019192\n",
      "L17.q    -0.020496\n",
      "L18.q     0.033263\n",
      "L19.q    -0.010576\n",
      "L20.q     0.005797\n",
      "L21.q    -0.023122\n",
      "L22.q    -0.001225\n",
      "L23.q     0.002178\n",
      "L24.q     0.013392\n",
      "L25.q    -0.031864\n",
      "L26.q     0.012898\n",
      "L27.q     0.005920\n",
      "L28.q     0.052028\n",
      "dtype: float64\n"
     ]
    }
   ],
   "source": [
    "model = AR(train['q'])\n",
    "AR31fit = model.fit(maxlag=31)\n",
    "AR31fit.aic\n",
    "print(f'Lag: {AR31fit.k_ar}')\n",
    "print(f'Coefficients:\\n{AR31fit.params}')\n"
   ]
  },
  {
   "cell_type": "code",
   "execution_count": 19,
   "id": "4edc48b6",
   "metadata": {},
   "outputs": [],
   "source": [
    "start=len(train)\n",
    "end=len(train)+len(test)-1\n",
    "\n",
    "predictions31 = AR31fit.predict(start=start, end=end, dynamic=False).rename('AR(31) Predictions')"
   ]
  },
  {
   "cell_type": "code",
   "execution_count": 20,
   "id": "b6ddea90",
   "metadata": {},
   "outputs": [
    {
     "data": {
      "text/plain": [
       "2018-01-01    12.587345\n",
       "2018-01-02    22.283497\n",
       "2018-01-03    27.499374\n",
       "2018-01-04    31.338462\n",
       "2018-01-05    33.886647\n",
       "2018-01-06    36.593463\n",
       "2018-01-07    38.349800\n",
       "2018-01-08    38.836020\n",
       "2018-01-09    38.953373\n",
       "2018-01-10    39.871186\n",
       "2018-01-11    41.807937\n",
       "2018-01-12    42.076802\n",
       "2018-01-13    43.240251\n",
       "2018-01-14    44.917418\n",
       "2018-01-15    45.878183\n",
       "2018-01-16    47.649530\n",
       "2018-01-17    48.728647\n",
       "2018-01-18    48.739494\n",
       "2018-01-19    49.662835\n",
       "2018-01-20    50.307195\n",
       "2018-01-21    51.297580\n",
       "2018-01-22    51.684533\n",
       "2018-01-23    51.498387\n",
       "2018-01-24    51.205796\n",
       "2018-01-25    51.449784\n",
       "2018-01-26    51.776213\n",
       "2018-01-27    51.724244\n",
       "2018-01-28    51.556945\n",
       "2018-01-29    52.303389\n",
       "2018-01-30    53.353376\n",
       "                ...    \n",
       "2021-12-02    66.609910\n",
       "2021-12-03    66.609910\n",
       "2021-12-04    66.609910\n",
       "2021-12-05    66.609910\n",
       "2021-12-06    66.609910\n",
       "2021-12-07    66.609910\n",
       "2021-12-08    66.609910\n",
       "2021-12-09    66.609910\n",
       "2021-12-10    66.609910\n",
       "2021-12-11    66.609910\n",
       "2021-12-12    66.609910\n",
       "2021-12-13    66.609910\n",
       "2021-12-14    66.609910\n",
       "2021-12-15    66.609910\n",
       "2021-12-16    66.609910\n",
       "2021-12-17    66.609910\n",
       "2021-12-18    66.609910\n",
       "2021-12-19    66.609910\n",
       "2021-12-20    66.609910\n",
       "2021-12-21    66.609910\n",
       "2021-12-22    66.609910\n",
       "2021-12-23    66.609910\n",
       "2021-12-24    66.609910\n",
       "2021-12-25    66.609910\n",
       "2021-12-26    66.609910\n",
       "2021-12-27    66.609910\n",
       "2021-12-28    66.609910\n",
       "2021-12-29    66.609910\n",
       "2021-12-30    66.609910\n",
       "2021-12-31    66.609910\n",
       "Freq: D, Name: AR(31) Predictions, Length: 1461, dtype: float64"
      ]
     },
     "execution_count": 20,
     "metadata": {},
     "output_type": "execute_result"
    }
   ],
   "source": [
    "predictions31"
   ]
  },
  {
   "cell_type": "code",
   "execution_count": 21,
   "id": "f03fc0bb",
   "metadata": {},
   "outputs": [
    {
     "ename": "NameError",
     "evalue": "name 'predictions1' is not defined",
     "output_type": "error",
     "traceback": [
      "\u001b[1;31m---------------------------------------------------------------------------\u001b[0m",
      "\u001b[1;31mNameError\u001b[0m                                 Traceback (most recent call last)",
      "\u001b[1;32mC:\\Users\\Public\\Documents\\ESTsoft\\CreatorTemp\\ipykernel_16096\\1358307950.py\u001b[0m in \u001b[0;36m<module>\u001b[1;34m\u001b[0m\n\u001b[1;32m----> 1\u001b[1;33m \u001b[1;32mfor\u001b[0m \u001b[0mi\u001b[0m \u001b[1;32min\u001b[0m \u001b[0mrange\u001b[0m\u001b[1;33m(\u001b[0m\u001b[0mlen\u001b[0m\u001b[1;33m(\u001b[0m\u001b[0mpredictions1\u001b[0m\u001b[1;33m)\u001b[0m\u001b[1;33m)\u001b[0m\u001b[1;33m:\u001b[0m\u001b[1;33m\u001b[0m\u001b[1;33m\u001b[0m\u001b[0m\n\u001b[0m\u001b[0;32m      2\u001b[0m     \u001b[0mprint\u001b[0m\u001b[1;33m(\u001b[0m\u001b[1;34mf\"predicted={predictions1[i]:<11.10}, expected={test['q'][i]}\"\u001b[0m\u001b[1;33m)\u001b[0m\u001b[1;33m\u001b[0m\u001b[1;33m\u001b[0m\u001b[0m\n",
      "\u001b[1;31mNameError\u001b[0m: name 'predictions1' is not defined"
     ]
    }
   ],
   "source": [
    "for i in range(len(predictions1)):\n",
    "    print(f\"predicted={predictions1[i]:<11.10}, expected={test['q'][i]}\")"
   ]
  },
  {
   "cell_type": "code",
   "execution_count": 22,
   "id": "6c17e772",
   "metadata": {},
   "outputs": [
    {
     "data": {
      "image/png": "[encoded data removed]",
      "text/plain": [
       "<Figure size 864x432 with 1 Axes>"
      ]
     },
     "metadata": {
      "needs_background": "light"
     },
     "output_type": "display_data"
    }
   ],
   "source": [
    "test['q'].plot(legend=True)\n",
    "predictions31.plot(legend=True,figsize=(12,6));"
   ]
  },
  {
   "cell_type": "code",
   "execution_count": 12,
   "id": "74593f90",
   "metadata": {},
   "outputs": [
    {
     "name": "stdout",
     "output_type": "stream",
     "text": [
      "Lag: 2\n",
      "Coefficients:\n",
      "const    21.175174\n",
      "L1.q      0.725030\n",
      "L2.q     -0.045045\n",
      "dtype: float64\n"
     ]
    }
   ],
   "source": [
    "AR2fit = model.fit(maxlag=2,method='mle')\n",
    "print(f'Lag: {AR2fit.k_ar}')\n",
    "print(f'Coefficients:\\n{AR2fit.params}')"
   ]
  },
  {
   "cell_type": "code",
   "execution_count": 13,
   "id": "65b077d0",
   "metadata": {},
   "outputs": [],
   "source": [
    "start=len(train)\n",
    "end=len(train)+len(test)-1\n",
    "predictions2 = AR2fit.predict(start=start, end=end, dynamic=False).rename('AR(2) Predictions')"
   ]
  },
  {
   "cell_type": "code",
   "execution_count": 15,
   "id": "003b2abf",
   "metadata": {
    "scrolled": true
   },
   "outputs": [
    {
     "data": {
      "image/png": "[encoded data removed]",
      "text/plain": [
       "<Figure size 864x432 with 1 Axes>"
      ]
     },
     "metadata": {
      "needs_background": "light"
     },
     "output_type": "display_data"
    }
   ],
   "source": [
    "test['q'].plot(legend=True)\n",
    "predictions31.plot(legend=True)\n",
    "predictions2.plot(legend=True,figsize=(12,6));"
   ]
  },
  {
   "cell_type": "code",
   "execution_count": 16,
   "id": "b071a8d3",
   "metadata": {},
   "outputs": [],
   "source": [
    "ARfit=model.fit(ic='t-stat')"
   ]
  },
  {
   "cell_type": "code",
   "execution_count": 17,
   "id": "8a2ad7ef",
   "metadata": {},
   "outputs": [
    {
     "data": {
      "text/plain": [
       "const    12.121149\n",
       "L1.q      0.739515\n",
       "L2.q     -0.193623\n",
       "L3.q      0.225285\n",
       "L4.q     -0.123418\n",
       "L5.q      0.100006\n",
       "L6.q     -0.073163\n",
       "L7.q      0.017171\n",
       "L8.q      0.012334\n",
       "L9.q      0.021965\n",
       "L10.q     0.017810\n",
       "L11.q    -0.019190\n",
       "L12.q     0.082743\n",
       "L13.q    -0.015778\n",
       "L14.q    -0.017824\n",
       "L15.q     0.025195\n",
       "L16.q    -0.019192\n",
       "L17.q    -0.020496\n",
       "L18.q     0.033263\n",
       "L19.q    -0.010576\n",
       "L20.q     0.005797\n",
       "L21.q    -0.023122\n",
       "L22.q    -0.001225\n",
       "L23.q     0.002178\n",
       "L24.q     0.013392\n",
       "L25.q    -0.031864\n",
       "L26.q     0.012898\n",
       "L27.q     0.005920\n",
       "L28.q     0.052028\n",
       "dtype: float64"
      ]
     },
     "execution_count": 17,
     "metadata": {},
     "output_type": "execute_result"
    }
   ],
   "source": [
    "ARfit.params"
   ]
  },
  {
   "cell_type": "code",
   "execution_count": 24,
   "id": "b2ff2210",
   "metadata": {},
   "outputs": [
    {
     "name": "stdout",
     "output_type": "stream",
     "text": [
      "AR(2) Error: 36337.71971\n",
      "AR(31) Error: 36282.50376\n"
     ]
    }
   ],
   "source": [
    "from sklearn.metrics import mean_squared_error\n",
    "\n",
    "labels = ['AR(2)','AR(31)']\n",
    "preds = [predictions2, predictions31]  # these are variables, not strings!\n",
    "\n",
    "for i in range(2):\n",
    "    error = mean_squared_error(test['q'], preds[i])\n",
    "    print(f'{labels[i]} Error: {error:11.10}')"
   ]
  },
  {
   "cell_type": "code",
   "execution_count": 29,
   "id": "0d727aa3",
   "metadata": {},
   "outputs": [
    {
     "name": "stdout",
     "output_type": "stream",
     "text": [
      "AR(1) AIC:   10.1\n",
      "AR(2) AIC:   10.1\n",
      "AR(11) AIC: 10.114\n"
     ]
    }
   ],
   "source": [
    "modls = [AR1fit,AR2fit,ARfit]\n",
    "\n",
    "for i in range(3):\n",
    "    print(f'{labels[i]} AIC: {modls[i].aic:6.5}')"
   ]
  },
  {
   "cell_type": "code",
   "execution_count": 25,
   "id": "6ea1fc72",
   "metadata": {},
   "outputs": [
    {
     "data": {
      "image/png": "[encoded data removed]",
      "text/plain": [
       "<Figure size 864x432 with 1 Axes>"
      ]
     },
     "metadata": {
      "needs_background": "light"
     },
     "output_type": "display_data"
    }
   ],
   "source": [
    "# First, retrain the model on the full dataset\n",
    "model = AR(df['q'])\n",
    "\n",
    "# Next, fit the model\n",
    "ARfit = model.fit(maxlag=11,method='mle')\n",
    "\n",
    "# Make predictions\n",
    "fcast = ARfit.predict(start=len(df), end=len(df)+365, dynamic=False).rename('Forecast')\n",
    "\n",
    "# Plot the results\n",
    "df['q'].plot(legend=True)\n",
    "fcast.plot(legend=True,figsize=(12,6));"
   ]
  },
  {
   "cell_type": "code",
   "execution_count": null,
   "id": "5f4fcea1",
   "metadata": {},
   "outputs": [],
   "source": []
  }
 ],
 "metadata": {
  "kernelspec": {
   "display_name": "Python 3 (ipykernel)",
   "language": "python",
   "name": "python3"
  },
  "language_info": {
   "codemirror_mode": {
    "name": "ipython",
    "version": 3
   },
   "file_extension": ".py",
   "mimetype": "text/x-python",
   "name": "python",
   "nbconvert_exporter": "python",
   "pygments_lexer": "ipython3",
   "version": "3.7.2"
  }
 },
 "nbformat": 4,
 "nbformat_minor": 5
}
